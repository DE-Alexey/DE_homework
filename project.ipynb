{
 "cells": [
  {
   "cell_type": "markdown",
   "metadata": {},
   "source": [
    "## Описание проекта"
   ]
  },
  {
   "cell_type": "markdown",
   "metadata": {},
   "source": [
    "* Необходимо, используя таблицу поездок для каждого дня рассчитать процент поездок по количеству человек в машине (без пассажиров, 1, 2,3,4 и более пассажиров). \n",
    "* По итогу должна получиться таблица (parquet) с колонками date, percentage_zero, percentage_1p, percentage_2p, percentage_3p, percentage_4p_plus.\n",
    "* Также добавить столбцы к предыдущим результатам с самой дорогой и самой дешевой поездкой для каждой группы.\n",
    "* также провести аналитику и построить график на тему “как пройденное расстояние и количество пассажиров влияет на чаевые” в любом удобном инструменте."
   ]
  },
  {
   "cell_type": "markdown",
   "metadata": {},
   "source": [
    "### Описание данных"
   ]
  },
  {
   "cell_type": "markdown",
   "metadata": {},
   "source": [
    "* VendorId - ИД компании\n",
    "* Trep_pickup_datetime - Время и дата, когда пассажир сел в такси\n",
    "* Trep_dropoff_datetime - Время и дата, когда пассажир вышел из такси\n",
    "* Passanger_count - Количество пассажиров\n",
    "* Trip_distance - Пройденное расстояние\n",
    "* Ratecodeid - Код скорости\n",
    "* Store_and_fwd_flag - Флаг, отвечающий за сохранение записи поездки перед ее отправкой поставщику\n",
    "* PulocationId - Широта, где была начата поездка\n",
    "* Dolocationid - Долгота, где была начата поездка\n",
    "* Payment_type - Тип оплаты\n",
    "* Fare_amount - Стоимость поездки\n",
    "* Mta_tax - Комиссия автопарка\n",
    "* Tip_amount - Чаевые\n",
    "* Tools_amount - Оплата за платные дороги\n",
    "* Improvement_surchange - Доплата за страховку\n",
    "* Total_amount - Полная стоимость поездки\n",
    "* Congestion_surchange - Дополнительный сбор "
   ]
  },
  {
   "cell_type": "markdown",
   "metadata": {},
   "source": [
    "## Импорт библиотек"
   ]
  },
  {
   "cell_type": "code",
   "execution_count": 2,
   "metadata": {
    "_kg_hide-input": true,
    "colab": {
     "base_uri": "https://localhost:8080/",
     "height": 17
    },
    "executionInfo": {
     "elapsed": 1372,
     "status": "ok",
     "timestamp": 1664432186886,
     "user": {
      "displayName": "Юрий Юров",
      "userId": "14847658770947017811"
     },
     "user_tz": -240
    },
    "id": "2meOrYdWvvVZ",
    "outputId": "373477b1-6a54-4c80-b13d-843d435f29ec"
   },
   "outputs": [],
   "source": [
    "import pandas as pd\n",
    "import numpy as np\n",
    "import seaborn as sns\n",
    "import matplotlib\n",
    "import warnings\n",
    "from matplotlib import pyplot as plt\n",
    "warnings.filterwarnings('ignore')\n",
    "pd.set_option('display.float_format', '{:,.1f}'.format)"
   ]
  },
  {
   "cell_type": "markdown",
   "metadata": {},
   "source": [
    "## Работа с данными"
   ]
  },
  {
   "cell_type": "markdown",
   "metadata": {},
   "source": [
    "Создание функции, показывающей информацию о данных, наличие дубликатов и пропусков в датафрейме."
   ]
  },
  {
   "cell_type": "code",
   "execution_count": 3,
   "metadata": {
    "_kg_hide-input": true,
    "colab": {
     "base_uri": "https://localhost:8080/",
     "height": 144
    },
    "executionInfo": {
     "elapsed": 328,
     "status": "ok",
     "timestamp": 1664432188402,
     "user": {
      "displayName": "Юрий Юров",
      "userId": "14847658770947017811"
     },
     "user_tz": -240
    },
    "id": "WnpW3CwzvvVb",
    "outputId": "c9ec1d0c-d14d-42e1-f142-9892d669cbb7",
    "scrolled": false
   },
   "outputs": [
    {
     "name": "stdout",
     "output_type": "stream",
     "text": [
      "<class 'pandas.core.frame.DataFrame'>\n",
      "RangeIndex: 6405008 entries, 0 to 6405007\n",
      "Data columns (total 18 columns):\n",
      " #   Column                 Dtype  \n",
      "---  ------                 -----  \n",
      " 0   VendorID               float64\n",
      " 1   tpep_pickup_datetime   object \n",
      " 2   tpep_dropoff_datetime  object \n",
      " 3   passenger_count        float64\n",
      " 4   trip_distance          float64\n",
      " 5   RatecodeID             float64\n",
      " 6   store_and_fwd_flag     object \n",
      " 7   PULocationID           int64  \n",
      " 8   DOLocationID           int64  \n",
      " 9   payment_type           float64\n",
      " 10  fare_amount            float64\n",
      " 11  extra                  float64\n",
      " 12  mta_tax                float64\n",
      " 13  tip_amount             float64\n",
      " 14  tolls_amount           float64\n",
      " 15  improvement_surcharge  float64\n",
      " 16  total_amount           float64\n",
      " 17  congestion_surcharge   float64\n",
      "dtypes: float64(13), int64(2), object(3)\n",
      "memory usage: 879.6+ MB\n"
     ]
    },
    {
     "data": {
      "text/html": [
       "<div>\n",
       "<style scoped>\n",
       "    .dataframe tbody tr th:only-of-type {\n",
       "        vertical-align: middle;\n",
       "    }\n",
       "\n",
       "    .dataframe tbody tr th {\n",
       "        vertical-align: top;\n",
       "    }\n",
       "\n",
       "    .dataframe thead th {\n",
       "        text-align: right;\n",
       "    }\n",
       "</style>\n",
       "<table border=\"1\" class=\"dataframe\">\n",
       "  <thead>\n",
       "    <tr style=\"text-align: right;\">\n",
       "      <th></th>\n",
       "      <th>VendorID</th>\n",
       "      <th>tpep_pickup_datetime</th>\n",
       "      <th>tpep_dropoff_datetime</th>\n",
       "      <th>passenger_count</th>\n",
       "      <th>trip_distance</th>\n",
       "      <th>RatecodeID</th>\n",
       "      <th>store_and_fwd_flag</th>\n",
       "      <th>PULocationID</th>\n",
       "      <th>DOLocationID</th>\n",
       "      <th>payment_type</th>\n",
       "      <th>fare_amount</th>\n",
       "      <th>extra</th>\n",
       "      <th>mta_tax</th>\n",
       "      <th>tip_amount</th>\n",
       "      <th>tolls_amount</th>\n",
       "      <th>improvement_surcharge</th>\n",
       "      <th>total_amount</th>\n",
       "      <th>congestion_surcharge</th>\n",
       "    </tr>\n",
       "  </thead>\n",
       "  <tbody>\n",
       "    <tr>\n",
       "      <th>0</th>\n",
       "      <td>1.0</td>\n",
       "      <td>2020-01-01 00:28:15</td>\n",
       "      <td>2020-01-01 00:33:03</td>\n",
       "      <td>1.0</td>\n",
       "      <td>1.2</td>\n",
       "      <td>1.0</td>\n",
       "      <td>N</td>\n",
       "      <td>238</td>\n",
       "      <td>239</td>\n",
       "      <td>1.0</td>\n",
       "      <td>6.0</td>\n",
       "      <td>3.0</td>\n",
       "      <td>0.5</td>\n",
       "      <td>1.5</td>\n",
       "      <td>0.0</td>\n",
       "      <td>0.3</td>\n",
       "      <td>11.3</td>\n",
       "      <td>2.5</td>\n",
       "    </tr>\n",
       "    <tr>\n",
       "      <th>1</th>\n",
       "      <td>1.0</td>\n",
       "      <td>2020-01-01 00:35:39</td>\n",
       "      <td>2020-01-01 00:43:04</td>\n",
       "      <td>1.0</td>\n",
       "      <td>1.2</td>\n",
       "      <td>1.0</td>\n",
       "      <td>N</td>\n",
       "      <td>239</td>\n",
       "      <td>238</td>\n",
       "      <td>1.0</td>\n",
       "      <td>7.0</td>\n",
       "      <td>3.0</td>\n",
       "      <td>0.5</td>\n",
       "      <td>1.5</td>\n",
       "      <td>0.0</td>\n",
       "      <td>0.3</td>\n",
       "      <td>12.3</td>\n",
       "      <td>2.5</td>\n",
       "    </tr>\n",
       "    <tr>\n",
       "      <th>2</th>\n",
       "      <td>1.0</td>\n",
       "      <td>2020-01-01 00:47:41</td>\n",
       "      <td>2020-01-01 00:53:52</td>\n",
       "      <td>1.0</td>\n",
       "      <td>0.6</td>\n",
       "      <td>1.0</td>\n",
       "      <td>N</td>\n",
       "      <td>238</td>\n",
       "      <td>238</td>\n",
       "      <td>1.0</td>\n",
       "      <td>6.0</td>\n",
       "      <td>3.0</td>\n",
       "      <td>0.5</td>\n",
       "      <td>1.0</td>\n",
       "      <td>0.0</td>\n",
       "      <td>0.3</td>\n",
       "      <td>10.8</td>\n",
       "      <td>2.5</td>\n",
       "    </tr>\n",
       "    <tr>\n",
       "      <th>3</th>\n",
       "      <td>1.0</td>\n",
       "      <td>2020-01-01 00:55:23</td>\n",
       "      <td>2020-01-01 01:00:14</td>\n",
       "      <td>1.0</td>\n",
       "      <td>0.8</td>\n",
       "      <td>1.0</td>\n",
       "      <td>N</td>\n",
       "      <td>238</td>\n",
       "      <td>151</td>\n",
       "      <td>1.0</td>\n",
       "      <td>5.5</td>\n",
       "      <td>0.5</td>\n",
       "      <td>0.5</td>\n",
       "      <td>1.4</td>\n",
       "      <td>0.0</td>\n",
       "      <td>0.3</td>\n",
       "      <td>8.2</td>\n",
       "      <td>0.0</td>\n",
       "    </tr>\n",
       "    <tr>\n",
       "      <th>4</th>\n",
       "      <td>2.0</td>\n",
       "      <td>2020-01-01 00:01:58</td>\n",
       "      <td>2020-01-01 00:04:16</td>\n",
       "      <td>1.0</td>\n",
       "      <td>0.0</td>\n",
       "      <td>1.0</td>\n",
       "      <td>N</td>\n",
       "      <td>193</td>\n",
       "      <td>193</td>\n",
       "      <td>2.0</td>\n",
       "      <td>3.5</td>\n",
       "      <td>0.5</td>\n",
       "      <td>0.5</td>\n",
       "      <td>0.0</td>\n",
       "      <td>0.0</td>\n",
       "      <td>0.3</td>\n",
       "      <td>4.8</td>\n",
       "      <td>0.0</td>\n",
       "    </tr>\n",
       "  </tbody>\n",
       "</table>\n",
       "</div>"
      ],
      "text/plain": [
       "   VendorID tpep_pickup_datetime tpep_dropoff_datetime  passenger_count  \\\n",
       "0       1.0  2020-01-01 00:28:15   2020-01-01 00:33:03              1.0   \n",
       "1       1.0  2020-01-01 00:35:39   2020-01-01 00:43:04              1.0   \n",
       "2       1.0  2020-01-01 00:47:41   2020-01-01 00:53:52              1.0   \n",
       "3       1.0  2020-01-01 00:55:23   2020-01-01 01:00:14              1.0   \n",
       "4       2.0  2020-01-01 00:01:58   2020-01-01 00:04:16              1.0   \n",
       "\n",
       "   trip_distance  RatecodeID store_and_fwd_flag  PULocationID  DOLocationID  \\\n",
       "0            1.2         1.0                  N           238           239   \n",
       "1            1.2         1.0                  N           239           238   \n",
       "2            0.6         1.0                  N           238           238   \n",
       "3            0.8         1.0                  N           238           151   \n",
       "4            0.0         1.0                  N           193           193   \n",
       "\n",
       "   payment_type  fare_amount  extra  mta_tax  tip_amount  tolls_amount  \\\n",
       "0           1.0          6.0    3.0      0.5         1.5           0.0   \n",
       "1           1.0          7.0    3.0      0.5         1.5           0.0   \n",
       "2           1.0          6.0    3.0      0.5         1.0           0.0   \n",
       "3           1.0          5.5    0.5      0.5         1.4           0.0   \n",
       "4           2.0          3.5    0.5      0.5         0.0           0.0   \n",
       "\n",
       "   improvement_surcharge  total_amount  congestion_surcharge  \n",
       "0                    0.3          11.3                   2.5  \n",
       "1                    0.3          12.3                   2.5  \n",
       "2                    0.3          10.8                   2.5  \n",
       "3                    0.3           8.2                   0.0  \n",
       "4                    0.3           4.8                   0.0  "
      ]
     },
     "metadata": {},
     "output_type": "display_data"
    },
    {
     "data": {
      "text/plain": [
       "None"
      ]
     },
     "metadata": {},
     "output_type": "display_data"
    },
    {
     "data": {
      "text/html": [
       "<div>\n",
       "<style scoped>\n",
       "    .dataframe tbody tr th:only-of-type {\n",
       "        vertical-align: middle;\n",
       "    }\n",
       "\n",
       "    .dataframe tbody tr th {\n",
       "        vertical-align: top;\n",
       "    }\n",
       "\n",
       "    .dataframe thead th {\n",
       "        text-align: right;\n",
       "    }\n",
       "</style>\n",
       "<table border=\"1\" class=\"dataframe\">\n",
       "  <thead>\n",
       "    <tr style=\"text-align: right;\">\n",
       "      <th></th>\n",
       "      <th>VendorID</th>\n",
       "      <th>passenger_count</th>\n",
       "      <th>trip_distance</th>\n",
       "      <th>RatecodeID</th>\n",
       "      <th>PULocationID</th>\n",
       "      <th>DOLocationID</th>\n",
       "      <th>payment_type</th>\n",
       "      <th>fare_amount</th>\n",
       "      <th>extra</th>\n",
       "      <th>mta_tax</th>\n",
       "      <th>tip_amount</th>\n",
       "      <th>tolls_amount</th>\n",
       "      <th>improvement_surcharge</th>\n",
       "      <th>total_amount</th>\n",
       "      <th>congestion_surcharge</th>\n",
       "    </tr>\n",
       "  </thead>\n",
       "  <tbody>\n",
       "    <tr>\n",
       "      <th>count</th>\n",
       "      <td>6,339,567.0</td>\n",
       "      <td>6,339,567.0</td>\n",
       "      <td>6,405,008.0</td>\n",
       "      <td>6,339,567.0</td>\n",
       "      <td>6,405,008.0</td>\n",
       "      <td>6,405,008.0</td>\n",
       "      <td>6,339,567.0</td>\n",
       "      <td>6,405,008.0</td>\n",
       "      <td>6,405,008.0</td>\n",
       "      <td>6,405,008.0</td>\n",
       "      <td>6,405,008.0</td>\n",
       "      <td>6,405,008.0</td>\n",
       "      <td>6,405,008.0</td>\n",
       "      <td>6,405,008.0</td>\n",
       "      <td>6,405,008.0</td>\n",
       "    </tr>\n",
       "    <tr>\n",
       "      <th>mean</th>\n",
       "      <td>1.7</td>\n",
       "      <td>1.5</td>\n",
       "      <td>2.9</td>\n",
       "      <td>1.1</td>\n",
       "      <td>164.7</td>\n",
       "      <td>162.7</td>\n",
       "      <td>1.3</td>\n",
       "      <td>12.7</td>\n",
       "      <td>1.1</td>\n",
       "      <td>0.5</td>\n",
       "      <td>2.2</td>\n",
       "      <td>0.3</td>\n",
       "      <td>0.3</td>\n",
       "      <td>18.7</td>\n",
       "      <td>2.3</td>\n",
       "    </tr>\n",
       "    <tr>\n",
       "      <th>std</th>\n",
       "      <td>0.5</td>\n",
       "      <td>1.2</td>\n",
       "      <td>83.2</td>\n",
       "      <td>0.8</td>\n",
       "      <td>65.5</td>\n",
       "      <td>69.9</td>\n",
       "      <td>0.5</td>\n",
       "      <td>12.1</td>\n",
       "      <td>1.3</td>\n",
       "      <td>0.1</td>\n",
       "      <td>2.8</td>\n",
       "      <td>1.8</td>\n",
       "      <td>0.0</td>\n",
       "      <td>14.8</td>\n",
       "      <td>0.7</td>\n",
       "    </tr>\n",
       "    <tr>\n",
       "      <th>min</th>\n",
       "      <td>1.0</td>\n",
       "      <td>0.0</td>\n",
       "      <td>-30.6</td>\n",
       "      <td>1.0</td>\n",
       "      <td>1.0</td>\n",
       "      <td>1.0</td>\n",
       "      <td>1.0</td>\n",
       "      <td>-1,238.0</td>\n",
       "      <td>-27.0</td>\n",
       "      <td>-0.5</td>\n",
       "      <td>-91.0</td>\n",
       "      <td>-35.7</td>\n",
       "      <td>-0.3</td>\n",
       "      <td>-1,242.3</td>\n",
       "      <td>-2.5</td>\n",
       "    </tr>\n",
       "    <tr>\n",
       "      <th>25%</th>\n",
       "      <td>1.0</td>\n",
       "      <td>1.0</td>\n",
       "      <td>1.0</td>\n",
       "      <td>1.0</td>\n",
       "      <td>132.0</td>\n",
       "      <td>113.0</td>\n",
       "      <td>1.0</td>\n",
       "      <td>6.5</td>\n",
       "      <td>0.0</td>\n",
       "      <td>0.5</td>\n",
       "      <td>0.0</td>\n",
       "      <td>0.0</td>\n",
       "      <td>0.3</td>\n",
       "      <td>11.2</td>\n",
       "      <td>2.5</td>\n",
       "    </tr>\n",
       "    <tr>\n",
       "      <th>50%</th>\n",
       "      <td>2.0</td>\n",
       "      <td>1.0</td>\n",
       "      <td>1.6</td>\n",
       "      <td>1.0</td>\n",
       "      <td>162.0</td>\n",
       "      <td>162.0</td>\n",
       "      <td>1.0</td>\n",
       "      <td>9.0</td>\n",
       "      <td>0.5</td>\n",
       "      <td>0.5</td>\n",
       "      <td>1.9</td>\n",
       "      <td>0.0</td>\n",
       "      <td>0.3</td>\n",
       "      <td>14.3</td>\n",
       "      <td>2.5</td>\n",
       "    </tr>\n",
       "    <tr>\n",
       "      <th>75%</th>\n",
       "      <td>2.0</td>\n",
       "      <td>2.0</td>\n",
       "      <td>2.9</td>\n",
       "      <td>1.0</td>\n",
       "      <td>234.0</td>\n",
       "      <td>234.0</td>\n",
       "      <td>2.0</td>\n",
       "      <td>14.0</td>\n",
       "      <td>2.5</td>\n",
       "      <td>0.5</td>\n",
       "      <td>2.9</td>\n",
       "      <td>0.0</td>\n",
       "      <td>0.3</td>\n",
       "      <td>19.8</td>\n",
       "      <td>2.5</td>\n",
       "    </tr>\n",
       "    <tr>\n",
       "      <th>max</th>\n",
       "      <td>2.0</td>\n",
       "      <td>9.0</td>\n",
       "      <td>210,240.1</td>\n",
       "      <td>99.0</td>\n",
       "      <td>265.0</td>\n",
       "      <td>265.0</td>\n",
       "      <td>5.0</td>\n",
       "      <td>4,265.0</td>\n",
       "      <td>113.0</td>\n",
       "      <td>30.8</td>\n",
       "      <td>1,100.0</td>\n",
       "      <td>910.5</td>\n",
       "      <td>0.3</td>\n",
       "      <td>4,268.3</td>\n",
       "      <td>2.8</td>\n",
       "    </tr>\n",
       "  </tbody>\n",
       "</table>\n",
       "</div>"
      ],
      "text/plain": [
       "         VendorID  passenger_count  trip_distance  RatecodeID  PULocationID  \\\n",
       "count 6,339,567.0      6,339,567.0    6,405,008.0 6,339,567.0   6,405,008.0   \n",
       "mean          1.7              1.5            2.9         1.1         164.7   \n",
       "std           0.5              1.2           83.2         0.8          65.5   \n",
       "min           1.0              0.0          -30.6         1.0           1.0   \n",
       "25%           1.0              1.0            1.0         1.0         132.0   \n",
       "50%           2.0              1.0            1.6         1.0         162.0   \n",
       "75%           2.0              2.0            2.9         1.0         234.0   \n",
       "max           2.0              9.0      210,240.1        99.0         265.0   \n",
       "\n",
       "       DOLocationID  payment_type  fare_amount       extra     mta_tax  \\\n",
       "count   6,405,008.0   6,339,567.0  6,405,008.0 6,405,008.0 6,405,008.0   \n",
       "mean          162.7           1.3         12.7         1.1         0.5   \n",
       "std            69.9           0.5         12.1         1.3         0.1   \n",
       "min             1.0           1.0     -1,238.0       -27.0        -0.5   \n",
       "25%           113.0           1.0          6.5         0.0         0.5   \n",
       "50%           162.0           1.0          9.0         0.5         0.5   \n",
       "75%           234.0           2.0         14.0         2.5         0.5   \n",
       "max           265.0           5.0      4,265.0       113.0        30.8   \n",
       "\n",
       "       tip_amount  tolls_amount  improvement_surcharge  total_amount  \\\n",
       "count 6,405,008.0   6,405,008.0            6,405,008.0   6,405,008.0   \n",
       "mean          2.2           0.3                    0.3          18.7   \n",
       "std           2.8           1.8                    0.0          14.8   \n",
       "min         -91.0         -35.7                   -0.3      -1,242.3   \n",
       "25%           0.0           0.0                    0.3          11.2   \n",
       "50%           1.9           0.0                    0.3          14.3   \n",
       "75%           2.9           0.0                    0.3          19.8   \n",
       "max       1,100.0         910.5                    0.3       4,268.3   \n",
       "\n",
       "       congestion_surcharge  \n",
       "count           6,405,008.0  \n",
       "mean                    2.3  \n",
       "std                     0.7  \n",
       "min                    -2.5  \n",
       "25%                     2.5  \n",
       "50%                     2.5  \n",
       "75%                     2.5  \n",
       "max                     2.8  "
      ]
     },
     "metadata": {},
     "output_type": "display_data"
    },
    {
     "data": {
      "text/plain": [
       "12949"
      ]
     },
     "metadata": {},
     "output_type": "display_data"
    },
    {
     "data": {
      "text/html": [
       "<style  type=\"text/css\" >\n",
       "</style><table id=\"T_2d431_\" ><thead>    <tr>        <th class=\"blank level0\" ></th>        <th class=\"col_heading level0 col0\" >кол-во</th>        <th class=\"col_heading level0 col1\" >доля</th>    </tr></thead><tbody>\n",
       "                <tr>\n",
       "                        <th id=\"T_2d431_level0_row0\" class=\"row_heading level0 row0\" >VendorID</th>\n",
       "                        <td id=\"T_2d431_row0_col0\" class=\"data row0 col0\" >65441</td>\n",
       "                        <td id=\"T_2d431_row0_col1\" class=\"data row0 col1\" >1.0%</td>\n",
       "            </tr>\n",
       "            <tr>\n",
       "                        <th id=\"T_2d431_level0_row1\" class=\"row_heading level0 row1\" >tpep_pickup_datetime</th>\n",
       "                        <td id=\"T_2d431_row1_col0\" class=\"data row1 col0\" >0</td>\n",
       "                        <td id=\"T_2d431_row1_col1\" class=\"data row1 col1\" >0.0%</td>\n",
       "            </tr>\n",
       "            <tr>\n",
       "                        <th id=\"T_2d431_level0_row2\" class=\"row_heading level0 row2\" >tpep_dropoff_datetime</th>\n",
       "                        <td id=\"T_2d431_row2_col0\" class=\"data row2 col0\" >0</td>\n",
       "                        <td id=\"T_2d431_row2_col1\" class=\"data row2 col1\" >0.0%</td>\n",
       "            </tr>\n",
       "            <tr>\n",
       "                        <th id=\"T_2d431_level0_row3\" class=\"row_heading level0 row3\" >passenger_count</th>\n",
       "                        <td id=\"T_2d431_row3_col0\" class=\"data row3 col0\" >65441</td>\n",
       "                        <td id=\"T_2d431_row3_col1\" class=\"data row3 col1\" >1.0%</td>\n",
       "            </tr>\n",
       "            <tr>\n",
       "                        <th id=\"T_2d431_level0_row4\" class=\"row_heading level0 row4\" >trip_distance</th>\n",
       "                        <td id=\"T_2d431_row4_col0\" class=\"data row4 col0\" >0</td>\n",
       "                        <td id=\"T_2d431_row4_col1\" class=\"data row4 col1\" >0.0%</td>\n",
       "            </tr>\n",
       "            <tr>\n",
       "                        <th id=\"T_2d431_level0_row5\" class=\"row_heading level0 row5\" >RatecodeID</th>\n",
       "                        <td id=\"T_2d431_row5_col0\" class=\"data row5 col0\" >65441</td>\n",
       "                        <td id=\"T_2d431_row5_col1\" class=\"data row5 col1\" >1.0%</td>\n",
       "            </tr>\n",
       "            <tr>\n",
       "                        <th id=\"T_2d431_level0_row6\" class=\"row_heading level0 row6\" >store_and_fwd_flag</th>\n",
       "                        <td id=\"T_2d431_row6_col0\" class=\"data row6 col0\" >65441</td>\n",
       "                        <td id=\"T_2d431_row6_col1\" class=\"data row6 col1\" >1.0%</td>\n",
       "            </tr>\n",
       "            <tr>\n",
       "                        <th id=\"T_2d431_level0_row7\" class=\"row_heading level0 row7\" >PULocationID</th>\n",
       "                        <td id=\"T_2d431_row7_col0\" class=\"data row7 col0\" >0</td>\n",
       "                        <td id=\"T_2d431_row7_col1\" class=\"data row7 col1\" >0.0%</td>\n",
       "            </tr>\n",
       "            <tr>\n",
       "                        <th id=\"T_2d431_level0_row8\" class=\"row_heading level0 row8\" >DOLocationID</th>\n",
       "                        <td id=\"T_2d431_row8_col0\" class=\"data row8 col0\" >0</td>\n",
       "                        <td id=\"T_2d431_row8_col1\" class=\"data row8 col1\" >0.0%</td>\n",
       "            </tr>\n",
       "            <tr>\n",
       "                        <th id=\"T_2d431_level0_row9\" class=\"row_heading level0 row9\" >payment_type</th>\n",
       "                        <td id=\"T_2d431_row9_col0\" class=\"data row9 col0\" >65441</td>\n",
       "                        <td id=\"T_2d431_row9_col1\" class=\"data row9 col1\" >1.0%</td>\n",
       "            </tr>\n",
       "            <tr>\n",
       "                        <th id=\"T_2d431_level0_row10\" class=\"row_heading level0 row10\" >fare_amount</th>\n",
       "                        <td id=\"T_2d431_row10_col0\" class=\"data row10 col0\" >0</td>\n",
       "                        <td id=\"T_2d431_row10_col1\" class=\"data row10 col1\" >0.0%</td>\n",
       "            </tr>\n",
       "            <tr>\n",
       "                        <th id=\"T_2d431_level0_row11\" class=\"row_heading level0 row11\" >extra</th>\n",
       "                        <td id=\"T_2d431_row11_col0\" class=\"data row11 col0\" >0</td>\n",
       "                        <td id=\"T_2d431_row11_col1\" class=\"data row11 col1\" >0.0%</td>\n",
       "            </tr>\n",
       "            <tr>\n",
       "                        <th id=\"T_2d431_level0_row12\" class=\"row_heading level0 row12\" >mta_tax</th>\n",
       "                        <td id=\"T_2d431_row12_col0\" class=\"data row12 col0\" >0</td>\n",
       "                        <td id=\"T_2d431_row12_col1\" class=\"data row12 col1\" >0.0%</td>\n",
       "            </tr>\n",
       "            <tr>\n",
       "                        <th id=\"T_2d431_level0_row13\" class=\"row_heading level0 row13\" >tip_amount</th>\n",
       "                        <td id=\"T_2d431_row13_col0\" class=\"data row13 col0\" >0</td>\n",
       "                        <td id=\"T_2d431_row13_col1\" class=\"data row13 col1\" >0.0%</td>\n",
       "            </tr>\n",
       "            <tr>\n",
       "                        <th id=\"T_2d431_level0_row14\" class=\"row_heading level0 row14\" >tolls_amount</th>\n",
       "                        <td id=\"T_2d431_row14_col0\" class=\"data row14 col0\" >0</td>\n",
       "                        <td id=\"T_2d431_row14_col1\" class=\"data row14 col1\" >0.0%</td>\n",
       "            </tr>\n",
       "            <tr>\n",
       "                        <th id=\"T_2d431_level0_row15\" class=\"row_heading level0 row15\" >improvement_surcharge</th>\n",
       "                        <td id=\"T_2d431_row15_col0\" class=\"data row15 col0\" >0</td>\n",
       "                        <td id=\"T_2d431_row15_col1\" class=\"data row15 col1\" >0.0%</td>\n",
       "            </tr>\n",
       "            <tr>\n",
       "                        <th id=\"T_2d431_level0_row16\" class=\"row_heading level0 row16\" >total_amount</th>\n",
       "                        <td id=\"T_2d431_row16_col0\" class=\"data row16 col0\" >0</td>\n",
       "                        <td id=\"T_2d431_row16_col1\" class=\"data row16 col1\" >0.0%</td>\n",
       "            </tr>\n",
       "            <tr>\n",
       "                        <th id=\"T_2d431_level0_row17\" class=\"row_heading level0 row17\" >congestion_surcharge</th>\n",
       "                        <td id=\"T_2d431_row17_col0\" class=\"data row17 col0\" >0</td>\n",
       "                        <td id=\"T_2d431_row17_col1\" class=\"data row17 col1\" >0.0%</td>\n",
       "            </tr>\n",
       "    </tbody></table>"
      ],
      "text/plain": [
       "<pandas.io.formats.style.Styler at 0x7f2e0c0cdd90>"
      ]
     },
     "metadata": {},
     "output_type": "display_data"
    }
   ],
   "source": [
    "df = pd.read_csv('yellow_tripdata_2020-01.csv')\n",
    "\n",
    "def dataframe(data):\n",
    "    return display(data.head(),\n",
    "                   data.info(),\n",
    "                   data.describe(),\n",
    "                   data.duplicated().sum(),\n",
    "                   pd.concat([data.isna().sum(),\n",
    "                              data.isna().mean()],\n",
    "                             axis=1)\n",
    "                   .rename(columns={0:'кол-во', 1:'доля'})\n",
    "                   .style.format({'кол-во':'{:.0f}', 'доля':'{:.1%}'})\n",
    "                  )\n",
    "dataframe(df)"
   ]
  },
  {
   "cell_type": "markdown",
   "metadata": {},
   "source": [
    "### Выводы"
   ]
  },
  {
   "cell_type": "markdown",
   "metadata": {},
   "source": [
    "* 6405008 записей в данных.\n",
    "* 12949 дублирующих записей.\n",
    "* 65441 записей с пропусками в данных, что составляет примерно 1% от всех данных.\n",
    "* Не менее 50% поездок без пассажиров или с 1 пассажиром.\n",
    "* Максимальное количество пассажиров 9, что говорит о том, что в данных присутствуют такси-микроавтобусы.\n",
    "* Средняя дистанция 2.9 км, медианная 1.6км.\n",
    "* Средний чек 12.7 долларов, медианный 9.0 максимальный 4265. При этом присутствуют отрицательные значения, скорее всего речь идет об убытках компаний, оплаченных ввиду нарушения договора.\n",
    "* Максимальные чаевые 1100 долларов."
   ]
  },
  {
   "cell_type": "markdown",
   "metadata": {
    "id": "ZL9T-tWCvvVe"
   },
   "source": [
    "# Работа с пропущенными данными"
   ]
  },
  {
   "cell_type": "markdown",
   "metadata": {},
   "source": [
    "Уберем из данных дубли и пропуски, ввиду их малой значимости для статистики(1%)"
   ]
  },
  {
   "cell_type": "code",
   "execution_count": 4,
   "metadata": {
    "id": "F4p5au5tvvVf"
   },
   "outputs": [
    {
     "data": {
      "text/plain": [
       "0"
      ]
     },
     "execution_count": 4,
     "metadata": {},
     "output_type": "execute_result"
    }
   ],
   "source": [
    "df = df.drop_duplicates().reset_index(drop=True)\n",
    "df.duplicated().sum()"
   ]
  },
  {
   "cell_type": "code",
   "execution_count": 5,
   "metadata": {
    "colab": {
     "base_uri": "https://localhost:8080/"
    },
    "executionInfo": {
     "elapsed": 2,
     "status": "ok",
     "timestamp": 1664432192680,
     "user": {
      "displayName": "Юрий Юров",
      "userId": "14847658770947017811"
     },
     "user_tz": -240
    },
    "id": "nGaOAHJ3vvVh",
    "outputId": "f78bd559-7fb7-4661-b2d6-0919ef608a57"
   },
   "outputs": [
    {
     "data": {
      "text/plain": [
       "VendorID                 0\n",
       "tpep_pickup_datetime     0\n",
       "tpep_dropoff_datetime    0\n",
       "passenger_count          0\n",
       "trip_distance            0\n",
       "RatecodeID               0\n",
       "store_and_fwd_flag       0\n",
       "PULocationID             0\n",
       "DOLocationID             0\n",
       "payment_type             0\n",
       "fare_amount              0\n",
       "extra                    0\n",
       "mta_tax                  0\n",
       "tip_amount               0\n",
       "tolls_amount             0\n",
       "improvement_surcharge    0\n",
       "total_amount             0\n",
       "congestion_surcharge     0\n",
       "dtype: int64"
      ]
     },
     "execution_count": 5,
     "metadata": {},
     "output_type": "execute_result"
    }
   ],
   "source": [
    "df = df.dropna()\n",
    "df.isnull().sum()"
   ]
  },
  {
   "cell_type": "code",
   "execution_count": 6,
   "metadata": {
    "colab": {
     "base_uri": "https://localhost:8080/"
    },
    "executionInfo": {
     "elapsed": 5,
     "status": "ok",
     "timestamp": 1664432193116,
     "user": {
      "displayName": "Юрий Юров",
      "userId": "14847658770947017811"
     },
     "user_tz": -240
    },
    "id": "r_i57T2GvvVi",
    "outputId": "90757fac-0e0c-4f77-a038-cb074c89628f"
   },
   "outputs": [
    {
     "name": "stdout",
     "output_type": "stream",
     "text": [
      "<class 'pandas.core.frame.DataFrame'>\n",
      "Int64Index: 6339567 entries, 0 to 6339566\n",
      "Data columns (total 18 columns):\n",
      " #   Column                 Dtype  \n",
      "---  ------                 -----  \n",
      " 0   VendorID               float64\n",
      " 1   tpep_pickup_datetime   object \n",
      " 2   tpep_dropoff_datetime  object \n",
      " 3   passenger_count        float64\n",
      " 4   trip_distance          float64\n",
      " 5   RatecodeID             float64\n",
      " 6   store_and_fwd_flag     object \n",
      " 7   PULocationID           int64  \n",
      " 8   DOLocationID           int64  \n",
      " 9   payment_type           float64\n",
      " 10  fare_amount            float64\n",
      " 11  extra                  float64\n",
      " 12  mta_tax                float64\n",
      " 13  tip_amount             float64\n",
      " 14  tolls_amount           float64\n",
      " 15  improvement_surcharge  float64\n",
      " 16  total_amount           float64\n",
      " 17  congestion_surcharge   float64\n",
      "dtypes: float64(13), int64(2), object(3)\n",
      "memory usage: 919.0+ MB\n"
     ]
    }
   ],
   "source": [
    "df.info()"
   ]
  },
  {
   "cell_type": "markdown",
   "metadata": {},
   "source": [
    "## Выполнение задания"
   ]
  },
  {
   "cell_type": "markdown",
   "metadata": {},
   "source": [
    "### Вывод необходимых данных в отдельный датафрейм."
   ]
  },
  {
   "cell_type": "code",
   "execution_count": 7,
   "metadata": {},
   "outputs": [],
   "source": [
    "df1 = df[['tpep_pickup_datetime','passenger_count', 'trip_distance', 'fare_amount', 'tip_amount']]"
   ]
  },
  {
   "cell_type": "markdown",
   "metadata": {},
   "source": [
    "### Преобразование времени поездки в дату"
   ]
  },
  {
   "cell_type": "code",
   "execution_count": 8,
   "metadata": {},
   "outputs": [],
   "source": [
    "df1['tpep_pickup_datetime'] = pd.to_datetime(df1['tpep_pickup_datetime']).dt.date"
   ]
  },
  {
   "cell_type": "markdown",
   "metadata": {},
   "source": [
    "### Сводная таблица с датами и процентами относительно количества пассажиров"
   ]
  },
  {
   "cell_type": "code",
   "execution_count": 9,
   "metadata": {},
   "outputs": [
    {
     "data": {
      "text/html": [
       "<div>\n",
       "<style scoped>\n",
       "    .dataframe tbody tr th:only-of-type {\n",
       "        vertical-align: middle;\n",
       "    }\n",
       "\n",
       "    .dataframe tbody tr th {\n",
       "        vertical-align: top;\n",
       "    }\n",
       "\n",
       "    .dataframe thead th {\n",
       "        text-align: right;\n",
       "    }\n",
       "</style>\n",
       "<table border=\"1\" class=\"dataframe\">\n",
       "  <thead>\n",
       "    <tr style=\"text-align: right;\">\n",
       "      <th></th>\n",
       "      <th>date</th>\n",
       "      <th>0</th>\n",
       "      <th>1</th>\n",
       "      <th>2</th>\n",
       "      <th>3</th>\n",
       "      <th>4</th>\n",
       "      <th>5</th>\n",
       "      <th>6</th>\n",
       "      <th>7</th>\n",
       "      <th>8</th>\n",
       "      <th>9</th>\n",
       "      <th>4+</th>\n",
       "      <th>total</th>\n",
       "      <th>0_%</th>\n",
       "      <th>1_%</th>\n",
       "      <th>2_%</th>\n",
       "      <th>3_%</th>\n",
       "      <th>4+_%</th>\n",
       "    </tr>\n",
       "  </thead>\n",
       "  <tbody>\n",
       "    <tr>\n",
       "      <th>0</th>\n",
       "      <td>2003-01-01</td>\n",
       "      <td>0.0</td>\n",
       "      <td>1.0</td>\n",
       "      <td>0.0</td>\n",
       "      <td>0.0</td>\n",
       "      <td>0.0</td>\n",
       "      <td>0.0</td>\n",
       "      <td>0.0</td>\n",
       "      <td>0.0</td>\n",
       "      <td>0.0</td>\n",
       "      <td>0.0</td>\n",
       "      <td>0.0</td>\n",
       "      <td>1.0</td>\n",
       "      <td>0.0</td>\n",
       "      <td>100.0</td>\n",
       "      <td>0.0</td>\n",
       "      <td>0.0</td>\n",
       "      <td>0.0</td>\n",
       "    </tr>\n",
       "    <tr>\n",
       "      <th>1</th>\n",
       "      <td>2008-12-31</td>\n",
       "      <td>0.0</td>\n",
       "      <td>8.0</td>\n",
       "      <td>0.0</td>\n",
       "      <td>1.0</td>\n",
       "      <td>0.0</td>\n",
       "      <td>0.0</td>\n",
       "      <td>1.0</td>\n",
       "      <td>0.0</td>\n",
       "      <td>0.0</td>\n",
       "      <td>0.0</td>\n",
       "      <td>1.0</td>\n",
       "      <td>10.0</td>\n",
       "      <td>0.0</td>\n",
       "      <td>80.0</td>\n",
       "      <td>0.0</td>\n",
       "      <td>10.0</td>\n",
       "      <td>10.0</td>\n",
       "    </tr>\n",
       "    <tr>\n",
       "      <th>2</th>\n",
       "      <td>2009-01-01</td>\n",
       "      <td>0.0</td>\n",
       "      <td>15.0</td>\n",
       "      <td>1.0</td>\n",
       "      <td>1.0</td>\n",
       "      <td>0.0</td>\n",
       "      <td>2.0</td>\n",
       "      <td>0.0</td>\n",
       "      <td>0.0</td>\n",
       "      <td>0.0</td>\n",
       "      <td>0.0</td>\n",
       "      <td>2.0</td>\n",
       "      <td>19.0</td>\n",
       "      <td>0.0</td>\n",
       "      <td>78.9</td>\n",
       "      <td>5.3</td>\n",
       "      <td>5.3</td>\n",
       "      <td>10.5</td>\n",
       "    </tr>\n",
       "    <tr>\n",
       "      <th>3</th>\n",
       "      <td>2019-12-18</td>\n",
       "      <td>0.0</td>\n",
       "      <td>1.0</td>\n",
       "      <td>0.0</td>\n",
       "      <td>0.0</td>\n",
       "      <td>1.0</td>\n",
       "      <td>0.0</td>\n",
       "      <td>0.0</td>\n",
       "      <td>0.0</td>\n",
       "      <td>0.0</td>\n",
       "      <td>0.0</td>\n",
       "      <td>1.0</td>\n",
       "      <td>2.0</td>\n",
       "      <td>0.0</td>\n",
       "      <td>50.0</td>\n",
       "      <td>0.0</td>\n",
       "      <td>0.0</td>\n",
       "      <td>50.0</td>\n",
       "    </tr>\n",
       "    <tr>\n",
       "      <th>4</th>\n",
       "      <td>2019-12-31</td>\n",
       "      <td>0.0</td>\n",
       "      <td>75.0</td>\n",
       "      <td>21.0</td>\n",
       "      <td>6.0</td>\n",
       "      <td>2.0</td>\n",
       "      <td>6.0</td>\n",
       "      <td>19.0</td>\n",
       "      <td>0.0</td>\n",
       "      <td>0.0</td>\n",
       "      <td>0.0</td>\n",
       "      <td>27.0</td>\n",
       "      <td>129.0</td>\n",
       "      <td>0.0</td>\n",
       "      <td>58.1</td>\n",
       "      <td>16.3</td>\n",
       "      <td>4.7</td>\n",
       "      <td>20.9</td>\n",
       "    </tr>\n",
       "    <tr>\n",
       "      <th>5</th>\n",
       "      <td>2020-01-01</td>\n",
       "      <td>2,552.0</td>\n",
       "      <td>107,095.0</td>\n",
       "      <td>32,830.0</td>\n",
       "      <td>9,680.0</td>\n",
       "      <td>5,916.0</td>\n",
       "      <td>6,678.0</td>\n",
       "      <td>3,820.0</td>\n",
       "      <td>1.0</td>\n",
       "      <td>5.0</td>\n",
       "      <td>1.0</td>\n",
       "      <td>16,421.0</td>\n",
       "      <td>168,578.0</td>\n",
       "      <td>1.5</td>\n",
       "      <td>63.5</td>\n",
       "      <td>19.5</td>\n",
       "      <td>5.7</td>\n",
       "      <td>9.7</td>\n",
       "    </tr>\n",
       "    <tr>\n",
       "      <th>6</th>\n",
       "      <td>2020-01-02</td>\n",
       "      <td>2,715.0</td>\n",
       "      <td>110,334.0</td>\n",
       "      <td>25,654.0</td>\n",
       "      <td>7,592.0</td>\n",
       "      <td>4,641.0</td>\n",
       "      <td>5,696.0</td>\n",
       "      <td>3,658.0</td>\n",
       "      <td>0.0</td>\n",
       "      <td>0.0</td>\n",
       "      <td>1.0</td>\n",
       "      <td>13,996.0</td>\n",
       "      <td>160,291.0</td>\n",
       "      <td>1.7</td>\n",
       "      <td>68.8</td>\n",
       "      <td>16.0</td>\n",
       "      <td>4.7</td>\n",
       "      <td>8.7</td>\n",
       "    </tr>\n",
       "    <tr>\n",
       "      <th>7</th>\n",
       "      <td>2020-01-03</td>\n",
       "      <td>3,211.0</td>\n",
       "      <td>125,018.0</td>\n",
       "      <td>29,617.0</td>\n",
       "      <td>8,311.0</td>\n",
       "      <td>4,760.0</td>\n",
       "      <td>6,663.0</td>\n",
       "      <td>3,939.0</td>\n",
       "      <td>1.0</td>\n",
       "      <td>0.0</td>\n",
       "      <td>0.0</td>\n",
       "      <td>15,363.0</td>\n",
       "      <td>181,520.0</td>\n",
       "      <td>1.8</td>\n",
       "      <td>68.9</td>\n",
       "      <td>16.3</td>\n",
       "      <td>4.6</td>\n",
       "      <td>8.5</td>\n",
       "    </tr>\n",
       "    <tr>\n",
       "      <th>8</th>\n",
       "      <td>2020-01-04</td>\n",
       "      <td>3,067.0</td>\n",
       "      <td>119,312.0</td>\n",
       "      <td>33,403.0</td>\n",
       "      <td>9,338.0</td>\n",
       "      <td>5,358.0</td>\n",
       "      <td>7,129.0</td>\n",
       "      <td>4,094.0</td>\n",
       "      <td>4.0</td>\n",
       "      <td>0.0</td>\n",
       "      <td>1.0</td>\n",
       "      <td>16,586.0</td>\n",
       "      <td>181,706.0</td>\n",
       "      <td>1.7</td>\n",
       "      <td>65.7</td>\n",
       "      <td>18.4</td>\n",
       "      <td>5.1</td>\n",
       "      <td>9.1</td>\n",
       "    </tr>\n",
       "    <tr>\n",
       "      <th>9</th>\n",
       "      <td>2020-01-05</td>\n",
       "      <td>2,756.0</td>\n",
       "      <td>110,379.0</td>\n",
       "      <td>28,286.0</td>\n",
       "      <td>7,786.0</td>\n",
       "      <td>4,275.0</td>\n",
       "      <td>6,134.0</td>\n",
       "      <td>3,417.0</td>\n",
       "      <td>4.0</td>\n",
       "      <td>0.0</td>\n",
       "      <td>1.0</td>\n",
       "      <td>13,831.0</td>\n",
       "      <td>163,038.0</td>\n",
       "      <td>1.7</td>\n",
       "      <td>67.7</td>\n",
       "      <td>17.3</td>\n",
       "      <td>4.8</td>\n",
       "      <td>8.5</td>\n",
       "    </tr>\n",
       "  </tbody>\n",
       "</table>\n",
       "</div>"
      ],
      "text/plain": [
       "         date       0         1        2       3       4       5       6   7  \\\n",
       "0  2003-01-01     0.0       1.0      0.0     0.0     0.0     0.0     0.0 0.0   \n",
       "1  2008-12-31     0.0       8.0      0.0     1.0     0.0     0.0     1.0 0.0   \n",
       "2  2009-01-01     0.0      15.0      1.0     1.0     0.0     2.0     0.0 0.0   \n",
       "3  2019-12-18     0.0       1.0      0.0     0.0     1.0     0.0     0.0 0.0   \n",
       "4  2019-12-31     0.0      75.0     21.0     6.0     2.0     6.0    19.0 0.0   \n",
       "5  2020-01-01 2,552.0 107,095.0 32,830.0 9,680.0 5,916.0 6,678.0 3,820.0 1.0   \n",
       "6  2020-01-02 2,715.0 110,334.0 25,654.0 7,592.0 4,641.0 5,696.0 3,658.0 0.0   \n",
       "7  2020-01-03 3,211.0 125,018.0 29,617.0 8,311.0 4,760.0 6,663.0 3,939.0 1.0   \n",
       "8  2020-01-04 3,067.0 119,312.0 33,403.0 9,338.0 5,358.0 7,129.0 4,094.0 4.0   \n",
       "9  2020-01-05 2,756.0 110,379.0 28,286.0 7,786.0 4,275.0 6,134.0 3,417.0 4.0   \n",
       "\n",
       "    8   9       4+     total  0_%   1_%  2_%  3_%  4+_%  \n",
       "0 0.0 0.0      0.0       1.0  0.0 100.0  0.0  0.0   0.0  \n",
       "1 0.0 0.0      1.0      10.0  0.0  80.0  0.0 10.0  10.0  \n",
       "2 0.0 0.0      2.0      19.0  0.0  78.9  5.3  5.3  10.5  \n",
       "3 0.0 0.0      1.0       2.0  0.0  50.0  0.0  0.0  50.0  \n",
       "4 0.0 0.0     27.0     129.0  0.0  58.1 16.3  4.7  20.9  \n",
       "5 5.0 1.0 16,421.0 168,578.0  1.5  63.5 19.5  5.7   9.7  \n",
       "6 0.0 1.0 13,996.0 160,291.0  1.7  68.8 16.0  4.7   8.7  \n",
       "7 0.0 0.0 15,363.0 181,520.0  1.8  68.9 16.3  4.6   8.5  \n",
       "8 0.0 1.0 16,586.0 181,706.0  1.7  65.7 18.4  5.1   9.1  \n",
       "9 0.0 1.0 13,831.0 163,038.0  1.7  67.7 17.3  4.8   8.5  "
      ]
     },
     "execution_count": 9,
     "metadata": {},
     "output_type": "execute_result"
    }
   ],
   "source": [
    "df = df1.pivot_table(\n",
    "    index = ['tpep_pickup_datetime'],\n",
    "    columns = ['passenger_count'],\n",
    "    values = 'fare_amount',\n",
    "    aggfunc='count').fillna(0)\n",
    "\n",
    "\n",
    "df.reset_index(inplace= True )\n",
    "df.columns = ['date','0','1','2','3','4','5','6','7','8','9']\n",
    "df['4+'] = df['4']+df['5']+df['6']+df['7']+df['8']+df['9']\n",
    "df['total'] = df['4+']+df['0']+df['1']+df['2']+df['3']\n",
    "df['0_%'] = round(df['0']/ df['total']*100, 1)\n",
    "df['1_%'] = round(df['1']/ df['total']*100, 1)\n",
    "df['2_%'] = round(df['2']/ df['total']*100, 1)\n",
    "df['3_%'] = round(df['3']/ df['total']*100, 1)\n",
    "df['4+_%'] = round(df['4+']/ df['total']*100, 1)\n",
    "df.head(10).sort_values('date')"
   ]
  },
  {
   "cell_type": "markdown",
   "metadata": {},
   "source": [
    "### Максимальный и минимальный положительный чек по датам."
   ]
  },
  {
   "cell_type": "code",
   "execution_count": 10,
   "metadata": {},
   "outputs": [
    {
     "data": {
      "text/html": [
       "<div>\n",
       "<style scoped>\n",
       "    .dataframe tbody tr th:only-of-type {\n",
       "        vertical-align: middle;\n",
       "    }\n",
       "\n",
       "    .dataframe tbody tr th {\n",
       "        vertical-align: top;\n",
       "    }\n",
       "\n",
       "    .dataframe thead th {\n",
       "        text-align: right;\n",
       "    }\n",
       "</style>\n",
       "<table border=\"1\" class=\"dataframe\">\n",
       "  <thead>\n",
       "    <tr style=\"text-align: right;\">\n",
       "      <th></th>\n",
       "      <th>date</th>\n",
       "      <th>max</th>\n",
       "      <th>min</th>\n",
       "    </tr>\n",
       "  </thead>\n",
       "  <tbody>\n",
       "    <tr>\n",
       "      <th>0</th>\n",
       "      <td>2008-12-31</td>\n",
       "      <td>52.0</td>\n",
       "      <td>3.5</td>\n",
       "    </tr>\n",
       "    <tr>\n",
       "      <th>1</th>\n",
       "      <td>2009-01-01</td>\n",
       "      <td>74.5</td>\n",
       "      <td>2.5</td>\n",
       "    </tr>\n",
       "    <tr>\n",
       "      <th>2</th>\n",
       "      <td>2019-12-18</td>\n",
       "      <td>2.5</td>\n",
       "      <td>0.0</td>\n",
       "    </tr>\n",
       "    <tr>\n",
       "      <th>3</th>\n",
       "      <td>2019-12-31</td>\n",
       "      <td>60.0</td>\n",
       "      <td>2.5</td>\n",
       "    </tr>\n",
       "    <tr>\n",
       "      <th>4</th>\n",
       "      <td>2020-01-01</td>\n",
       "      <td>400.0</td>\n",
       "      <td>0.0</td>\n",
       "    </tr>\n",
       "  </tbody>\n",
       "</table>\n",
       "</div>"
      ],
      "text/plain": [
       "         date   max  min\n",
       "0  2008-12-31  52.0  3.5\n",
       "1  2009-01-01  74.5  2.5\n",
       "2  2019-12-18   2.5  0.0\n",
       "3  2019-12-31  60.0  2.5\n",
       "4  2020-01-01 400.0  0.0"
      ]
     },
     "execution_count": 10,
     "metadata": {},
     "output_type": "execute_result"
    }
   ],
   "source": [
    "df_pay = df1[df1['fare_amount'] > 0].pivot_table(\n",
    "    index = ['tpep_pickup_datetime'],\n",
    "    values = 'fare_amount',\n",
    "    aggfunc=['max','min']).fillna(0)\n",
    "df_pay.reset_index(inplace= True)\n",
    "df_pay.columns = ['date','max','min']\n",
    "df_pay.head()"
   ]
  },
  {
   "cell_type": "markdown",
   "metadata": {},
   "source": [
    "### Финальная таблица"
   ]
  },
  {
   "cell_type": "code",
   "execution_count": 11,
   "metadata": {},
   "outputs": [
    {
     "data": {
      "text/html": [
       "<div>\n",
       "<style scoped>\n",
       "    .dataframe tbody tr th:only-of-type {\n",
       "        vertical-align: middle;\n",
       "    }\n",
       "\n",
       "    .dataframe tbody tr th {\n",
       "        vertical-align: top;\n",
       "    }\n",
       "\n",
       "    .dataframe thead th {\n",
       "        text-align: right;\n",
       "    }\n",
       "</style>\n",
       "<table border=\"1\" class=\"dataframe\">\n",
       "  <thead>\n",
       "    <tr style=\"text-align: right;\">\n",
       "      <th></th>\n",
       "      <th>date</th>\n",
       "      <th>0_%</th>\n",
       "      <th>1_%</th>\n",
       "      <th>2_%</th>\n",
       "      <th>3_%</th>\n",
       "      <th>4+_%</th>\n",
       "      <th>max</th>\n",
       "      <th>min</th>\n",
       "    </tr>\n",
       "  </thead>\n",
       "  <tbody>\n",
       "    <tr>\n",
       "      <th>0</th>\n",
       "      <td>2008-12-31</td>\n",
       "      <td>0.0</td>\n",
       "      <td>80.0</td>\n",
       "      <td>0.0</td>\n",
       "      <td>10.0</td>\n",
       "      <td>10.0</td>\n",
       "      <td>52.0</td>\n",
       "      <td>3.5</td>\n",
       "    </tr>\n",
       "    <tr>\n",
       "      <th>1</th>\n",
       "      <td>2009-01-01</td>\n",
       "      <td>0.0</td>\n",
       "      <td>78.9</td>\n",
       "      <td>5.3</td>\n",
       "      <td>5.3</td>\n",
       "      <td>10.5</td>\n",
       "      <td>74.5</td>\n",
       "      <td>2.5</td>\n",
       "    </tr>\n",
       "    <tr>\n",
       "      <th>2</th>\n",
       "      <td>2019-12-18</td>\n",
       "      <td>0.0</td>\n",
       "      <td>50.0</td>\n",
       "      <td>0.0</td>\n",
       "      <td>0.0</td>\n",
       "      <td>50.0</td>\n",
       "      <td>2.5</td>\n",
       "      <td>0.0</td>\n",
       "    </tr>\n",
       "    <tr>\n",
       "      <th>3</th>\n",
       "      <td>2019-12-31</td>\n",
       "      <td>0.0</td>\n",
       "      <td>58.1</td>\n",
       "      <td>16.3</td>\n",
       "      <td>4.7</td>\n",
       "      <td>20.9</td>\n",
       "      <td>60.0</td>\n",
       "      <td>2.5</td>\n",
       "    </tr>\n",
       "    <tr>\n",
       "      <th>4</th>\n",
       "      <td>2020-01-01</td>\n",
       "      <td>1.5</td>\n",
       "      <td>63.5</td>\n",
       "      <td>19.5</td>\n",
       "      <td>5.7</td>\n",
       "      <td>9.7</td>\n",
       "      <td>400.0</td>\n",
       "      <td>0.0</td>\n",
       "    </tr>\n",
       "  </tbody>\n",
       "</table>\n",
       "</div>"
      ],
      "text/plain": [
       "         date  0_%  1_%  2_%  3_%  4+_%   max  min\n",
       "0  2008-12-31  0.0 80.0  0.0 10.0  10.0  52.0  3.5\n",
       "1  2009-01-01  0.0 78.9  5.3  5.3  10.5  74.5  2.5\n",
       "2  2019-12-18  0.0 50.0  0.0  0.0  50.0   2.5  0.0\n",
       "3  2019-12-31  0.0 58.1 16.3  4.7  20.9  60.0  2.5\n",
       "4  2020-01-01  1.5 63.5 19.5  5.7   9.7 400.0  0.0"
      ]
     },
     "execution_count": 11,
     "metadata": {},
     "output_type": "execute_result"
    }
   ],
   "source": [
    "df_final = df[['date','0_%','1_%','2_%','3_%','4+_%']]\n",
    "df_final = df_final.merge(df_pay, left_on='date', right_on='date')\n",
    "df_final.head()"
   ]
  },
  {
   "cell_type": "markdown",
   "metadata": {},
   "source": [
    "### Влияние пройденного расстояния и количества пассажиров на чаевые"
   ]
  },
  {
   "cell_type": "code",
   "execution_count": 13,
   "metadata": {},
   "outputs": [
    {
     "data": {
      "text/plain": [
       "array([[<AxesSubplot:xlabel='trip_distance', ylabel='trip_distance'>,\n",
       "        <AxesSubplot:xlabel='tip_amount', ylabel='trip_distance'>,\n",
       "        <AxesSubplot:xlabel='passenger_count', ylabel='trip_distance'>],\n",
       "       [<AxesSubplot:xlabel='trip_distance', ylabel='tip_amount'>,\n",
       "        <AxesSubplot:xlabel='tip_amount', ylabel='tip_amount'>,\n",
       "        <AxesSubplot:xlabel='passenger_count', ylabel='tip_amount'>],\n",
       "       [<AxesSubplot:xlabel='trip_distance', ylabel='passenger_count'>,\n",
       "        <AxesSubplot:xlabel='tip_amount', ylabel='passenger_count'>,\n",
       "        <AxesSubplot:xlabel='passenger_count', ylabel='passenger_count'>]],\n",
       "      dtype=object)"
      ]
     },
     "execution_count": 13,
     "metadata": {},
     "output_type": "execute_result"
    },
    {
     "data": {
      "image/png": "[encoded data removed]",
      "text/plain": [
       "<Figure size 432x288 with 9 Axes>"
      ]
     },
     "metadata": {
      "needs_background": "light"
     },
     "output_type": "display_data"
    }
   ],
   "source": [
    "pd.plotting.scatter_matrix(df1[['trip_distance','tip_amount', 'passenger_count']], alpha=0.2);"
   ]
  },
  {
   "cell_type": "markdown",
   "metadata": {},
   "source": [
    "### Вывод"
   ]
  },
  {
   "cell_type": "markdown",
   "metadata": {},
   "source": [
    "* Больше всего чаевых оставляют, когда в поездке один пассажир, чем больше пассажиров, тем меньше чаевых.\n",
    "* По дистанции корреляции скорее нет, наибольшие значения чаевых на короткие расстояния скорее из-за массовости, при увеличении дистанции диаграмма остается ровной, с выбросами в районе 100 км."
   ]
  }
 ],
 "metadata": {
  "ExecuteTimeLog": [
   {
    "duration": 1734,
    "start_time": "2022-12-27T07:45:06.577Z"
   },
   {
    "duration": 7,
    "start_time": "2022-12-27T07:45:17.999Z"
   },
   {
    "duration": 16,
    "start_time": "2022-12-27T07:45:22.466Z"
   },
   {
    "duration": 14548,
    "start_time": "2022-12-27T07:45:42.456Z"
   },
   {
    "duration": 5153,
    "start_time": "2022-12-27T07:47:07.936Z"
   },
   {
    "duration": 3,
    "start_time": "2022-12-27T07:47:51.685Z"
   },
   {
    "duration": 4,
    "start_time": "2022-12-27T07:48:09.134Z"
   },
   {
    "duration": 248,
    "start_time": "2022-12-27T07:48:39.005Z"
   },
   {
    "duration": 42,
    "start_time": "2022-12-27T07:52:57.402Z"
   },
   {
    "duration": 53,
    "start_time": "2022-12-27T07:53:08.117Z"
   },
   {
    "duration": 10,
    "start_time": "2022-12-27T08:25:31.915Z"
   },
   {
    "duration": 50,
    "start_time": "2022-12-27T08:26:31.948Z"
   },
   {
    "duration": 2990,
    "start_time": "2022-12-27T08:26:50.107Z"
   },
   {
    "duration": 30,
    "start_time": "2022-12-27T08:27:05.655Z"
   },
   {
    "duration": 10,
    "start_time": "2022-12-27T08:30:09.440Z"
   },
   {
    "duration": 9,
    "start_time": "2022-12-27T10:53:31.973Z"
   },
   {
    "duration": 35,
    "start_time": "2022-12-27T10:56:11.304Z"
   },
   {
    "duration": 63,
    "start_time": "2022-12-27T10:59:11.973Z"
   },
   {
    "duration": 86,
    "start_time": "2022-12-27T11:01:03.986Z"
   },
   {
    "duration": 56,
    "start_time": "2022-12-27T11:01:40.711Z"
   },
   {
    "duration": 51,
    "start_time": "2022-12-27T11:02:06.355Z"
   },
   {
    "duration": 10,
    "start_time": "2022-12-27T11:07:43.765Z"
   },
   {
    "duration": 9,
    "start_time": "2022-12-27T11:08:48.621Z"
   },
   {
    "duration": 4,
    "start_time": "2022-12-27T11:09:51.057Z"
   },
   {
    "duration": 57,
    "start_time": "2022-12-27T11:11:22.382Z"
   },
   {
    "duration": 72,
    "start_time": "2022-12-27T11:11:45.843Z"
   },
   {
    "duration": 83,
    "start_time": "2022-12-27T11:13:04.902Z"
   },
   {
    "duration": 55,
    "start_time": "2022-12-27T11:13:21.762Z"
   },
   {
    "duration": 50,
    "start_time": "2022-12-27T11:13:26.082Z"
   },
   {
    "duration": 55,
    "start_time": "2022-12-27T11:14:23.984Z"
   },
   {
    "duration": 15,
    "start_time": "2022-12-27T11:23:56.744Z"
   },
   {
    "duration": 4,
    "start_time": "2022-12-27T11:25:27.246Z"
   },
   {
    "duration": 47,
    "start_time": "2022-12-27T11:26:22.799Z"
   },
   {
    "duration": 1125,
    "start_time": "2022-12-27T11:26:27.402Z"
   },
   {
    "duration": 30916,
    "start_time": "2022-12-27T11:26:35.128Z"
   },
   {
    "duration": 22504,
    "start_time": "2022-12-27T11:34:35.877Z"
   },
   {
    "duration": 839,
    "start_time": "2022-12-27T11:37:52.114Z"
   },
   {
    "duration": 1518,
    "start_time": "2022-12-27T11:41:55.526Z"
   },
   {
    "duration": 1703,
    "start_time": "2022-12-27T11:42:10.453Z"
   },
   {
    "duration": 2499,
    "start_time": "2022-12-27T11:43:10.019Z"
   },
   {
    "duration": 9,
    "start_time": "2022-12-27T11:43:25.330Z"
   },
   {
    "duration": 6910,
    "start_time": "2022-12-27T11:55:14.239Z"
   },
   {
    "duration": 2,
    "start_time": "2022-12-27T11:55:44.188Z"
   },
   {
    "duration": 4,
    "start_time": "2022-12-27T11:56:03.802Z"
   },
   {
    "duration": 6540,
    "start_time": "2022-12-27T11:56:10.067Z"
   },
   {
    "duration": 1152,
    "start_time": "2022-12-27T11:59:22.990Z"
   },
   {
    "duration": 3,
    "start_time": "2022-12-27T12:01:15.505Z"
   },
   {
    "duration": 31595,
    "start_time": "2022-12-27T12:01:15.510Z"
   },
   {
    "duration": 21628,
    "start_time": "2022-12-27T12:01:47.106Z"
   },
   {
    "duration": 2227,
    "start_time": "2022-12-27T12:02:08.736Z"
   },
   {
    "duration": 9,
    "start_time": "2022-12-27T12:02:10.965Z"
   },
   {
    "duration": 7188,
    "start_time": "2022-12-27T12:02:10.975Z"
   },
   {
    "duration": 2,
    "start_time": "2022-12-27T12:02:18.166Z"
   },
   {
    "duration": 3,
    "start_time": "2022-12-27T12:02:36.878Z"
   },
   {
    "duration": 10,
    "start_time": "2022-12-27T12:10:19.087Z"
   },
   {
    "duration": 2,
    "start_time": "2022-12-27T12:10:33.139Z"
   },
   {
    "duration": 100,
    "start_time": "2022-12-27T12:11:50.486Z"
   },
   {
    "duration": 644,
    "start_time": "2022-12-27T12:12:11.800Z"
   },
   {
    "duration": 43,
    "start_time": "2022-12-27T12:15:38.520Z"
   },
   {
    "duration": 1126,
    "start_time": "2022-12-27T12:15:42.761Z"
   },
   {
    "duration": 33370,
    "start_time": "2022-12-27T12:15:43.888Z"
   },
   {
    "duration": 22211,
    "start_time": "2022-12-27T12:16:17.260Z"
   },
   {
    "duration": 2266,
    "start_time": "2022-12-27T12:16:39.474Z"
   },
   {
    "duration": 8,
    "start_time": "2022-12-27T12:16:41.741Z"
   },
   {
    "duration": 1102,
    "start_time": "2022-12-27T12:22:28.687Z"
   },
   {
    "duration": 30014,
    "start_time": "2022-12-27T12:22:29.790Z"
   },
   {
    "duration": 21421,
    "start_time": "2022-12-27T12:22:59.806Z"
   },
   {
    "duration": 2233,
    "start_time": "2022-12-27T12:23:21.229Z"
   },
   {
    "duration": 10,
    "start_time": "2022-12-27T12:23:23.464Z"
   },
   {
    "duration": 919,
    "start_time": "2022-12-27T13:40:46.246Z"
   },
   {
    "duration": 12,
    "start_time": "2022-12-27T13:41:11.889Z"
   },
   {
    "duration": 56,
    "start_time": "2022-12-27T13:41:36.855Z"
   },
   {
    "duration": 11,
    "start_time": "2022-12-27T13:43:24.529Z"
   },
   {
    "duration": 2367,
    "start_time": "2022-12-27T13:43:39.299Z"
   },
   {
    "duration": 137,
    "start_time": "2022-12-27T13:52:09.737Z"
   },
   {
    "duration": 2439,
    "start_time": "2022-12-27T13:52:15.765Z"
   },
   {
    "duration": 842,
    "start_time": "2022-12-27T13:52:39.899Z"
   },
   {
    "duration": 703,
    "start_time": "2022-12-27T13:53:52.270Z"
   },
   {
    "duration": 722,
    "start_time": "2022-12-27T13:54:45.275Z"
   },
   {
    "duration": 686,
    "start_time": "2022-12-27T13:54:55.128Z"
   },
   {
    "duration": 661,
    "start_time": "2022-12-27T13:58:50.953Z"
   },
   {
    "duration": 728,
    "start_time": "2022-12-27T13:59:32.669Z"
   },
   {
    "duration": 686,
    "start_time": "2022-12-27T13:59:48.118Z"
   },
   {
    "duration": 744,
    "start_time": "2022-12-27T14:00:03.019Z"
   },
   {
    "duration": 707,
    "start_time": "2022-12-27T14:00:21.198Z"
   },
   {
    "duration": 740,
    "start_time": "2022-12-27T14:04:12.634Z"
   },
   {
    "duration": 729,
    "start_time": "2022-12-27T14:04:29.992Z"
   },
   {
    "duration": 701,
    "start_time": "2022-12-27T14:07:40.305Z"
   },
   {
    "duration": 1407,
    "start_time": "2022-12-27T14:16:51.312Z"
   },
   {
    "duration": 1434,
    "start_time": "2022-12-27T14:18:04.774Z"
   },
   {
    "duration": 713,
    "start_time": "2022-12-27T14:22:07.757Z"
   },
   {
    "duration": 718,
    "start_time": "2022-12-27T14:22:41.728Z"
   },
   {
    "duration": 770,
    "start_time": "2022-12-27T14:22:54.279Z"
   },
   {
    "duration": 707,
    "start_time": "2022-12-27T14:23:28.141Z"
   },
   {
    "duration": 711,
    "start_time": "2022-12-27T14:23:39.149Z"
   },
   {
    "duration": 57,
    "start_time": "2022-12-27T14:25:45.469Z"
   },
   {
    "duration": 950,
    "start_time": "2022-12-27T14:27:19.669Z"
   },
   {
    "duration": 694,
    "start_time": "2022-12-27T14:27:40.206Z"
   },
   {
    "duration": 1436,
    "start_time": "2022-12-27T14:28:06.590Z"
   },
   {
    "duration": 713,
    "start_time": "2022-12-27T14:29:06.677Z"
   },
   {
    "duration": 80,
    "start_time": "2022-12-27T14:40:25.596Z"
   },
   {
    "duration": 747,
    "start_time": "2022-12-27T14:52:46.464Z"
   },
   {
    "duration": 910,
    "start_time": "2022-12-27T14:57:37.667Z"
   },
   {
    "duration": 12,
    "start_time": "2022-12-27T14:58:52.956Z"
   },
   {
    "duration": 12,
    "start_time": "2022-12-27T14:59:23.054Z"
   },
   {
    "duration": 716,
    "start_time": "2022-12-27T15:00:17.272Z"
   },
   {
    "duration": 1300,
    "start_time": "2022-12-28T05:42:33.470Z"
   },
   {
    "duration": 39819,
    "start_time": "2022-12-28T05:42:34.772Z"
   },
   {
    "duration": 24556,
    "start_time": "2022-12-28T05:43:14.592Z"
   },
   {
    "duration": 2078,
    "start_time": "2022-12-28T05:43:39.150Z"
   },
   {
    "duration": 9,
    "start_time": "2022-12-28T05:43:41.230Z"
   },
   {
    "duration": 98,
    "start_time": "2022-12-28T05:43:41.240Z"
   },
   {
    "duration": 2364,
    "start_time": "2022-12-28T05:43:41.340Z"
   },
   {
    "duration": 75,
    "start_time": "2022-12-28T05:43:43.706Z"
   },
   {
    "duration": 1112,
    "start_time": "2022-12-28T05:47:53.658Z"
   },
   {
    "duration": 89,
    "start_time": "2022-12-28T08:14:22.710Z"
   },
   {
    "duration": 910,
    "start_time": "2022-12-28T08:14:37.362Z"
   },
   {
    "duration": 591,
    "start_time": "2022-12-28T08:17:26.053Z"
   },
   {
    "duration": 4,
    "start_time": "2022-12-28T08:17:38.931Z"
   },
   {
    "duration": 555,
    "start_time": "2022-12-28T08:18:06.617Z"
   },
   {
    "duration": 11,
    "start_time": "2022-12-28T08:19:35.961Z"
   },
   {
    "duration": 15,
    "start_time": "2022-12-28T08:20:30.182Z"
   },
   {
    "duration": 18,
    "start_time": "2022-12-28T08:20:43.506Z"
   },
   {
    "duration": 1308,
    "start_time": "2022-12-28T08:21:14.351Z"
   },
   {
    "duration": 1210,
    "start_time": "2022-12-28T08:21:31.301Z"
   },
   {
    "duration": 1281,
    "start_time": "2022-12-28T08:22:00.153Z"
   },
   {
    "duration": 1511,
    "start_time": "2022-12-28T08:32:18.773Z"
   },
   {
    "duration": 1105,
    "start_time": "2022-12-28T08:32:37.396Z"
   },
   {
    "duration": 18,
    "start_time": "2022-12-28T08:33:05.243Z"
   },
   {
    "duration": 45,
    "start_time": "2022-12-29T05:56:47.864Z"
   },
   {
    "duration": 1258,
    "start_time": "2022-12-29T05:56:58.163Z"
   },
   {
    "duration": 34370,
    "start_time": "2022-12-29T05:56:59.424Z"
   },
   {
    "duration": 23491,
    "start_time": "2022-12-29T05:57:33.796Z"
   },
   {
    "duration": 2118,
    "start_time": "2022-12-29T05:57:57.289Z"
   },
   {
    "duration": 10,
    "start_time": "2022-12-29T05:57:59.411Z"
   },
   {
    "duration": 104,
    "start_time": "2022-12-29T05:57:59.423Z"
   },
   {
    "duration": 2496,
    "start_time": "2022-12-29T05:57:59.529Z"
   },
   {
    "duration": 1009,
    "start_time": "2022-12-29T05:58:02.027Z"
   },
   {
    "duration": 1047,
    "start_time": "2022-12-29T05:58:03.037Z"
   },
   {
    "duration": 13,
    "start_time": "2022-12-29T05:58:04.086Z"
   },
   {
    "duration": 75,
    "start_time": "2022-12-29T05:58:04.101Z"
   },
   {
    "duration": 113255,
    "start_time": "2022-12-29T05:58:37.714Z"
   }
  ],
  "colab": {
   "provenance": []
  },
  "kernelspec": {
   "display_name": "Python 3 (ipykernel)",
   "language": "python",
   "name": "python3"
  },
  "language_info": {
   "codemirror_mode": {
    "name": "ipython",
    "version": 3
   },
   "file_extension": ".py",
   "mimetype": "text/x-python",
   "name": "python",
   "nbconvert_exporter": "python",
   "pygments_lexer": "ipython3",
   "version": "3.9.5"
  },
  "toc": {
   "base_numbering": 1,
   "nav_menu": {},
   "number_sections": true,
   "sideBar": true,
   "skip_h1_title": true,
   "title_cell": "Table of Contents",
   "title_sidebar": "Contents",
   "toc_cell": false,
   "toc_position": {},
   "toc_section_display": true,
   "toc_window_display": true
  }
 },
 "nbformat": 4,
 "nbformat_minor": 1
}
