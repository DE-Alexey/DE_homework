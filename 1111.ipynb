{
 "cells": [
  {
   "cell_type": "markdown",
   "metadata": {},
   "source": [
    "##  Загрузка данных, исследовательский анализ данных (EDA)"
   ]
  },
  {
   "cell_type": "markdown",
   "metadata": {},
   "source": [
    "### Импорт библиотек"
   ]
  },
  {
   "cell_type": "code",
   "execution_count": 127,
   "metadata": {},
   "outputs": [],
   "source": [
    "import pandas as pd\n",
    "import numpy as np\n",
    "import math as mth\n",
    "import seaborn as sns\n",
    "import matplotlib\n",
    "import warnings\n",
    "\n",
    "from matplotlib import pyplot as plt\n",
    "from matplotlib.pyplot import figure\n",
    "from sklearn.preprocessing import StandardScaler, OneHotEncoder\n",
    "from sklearn.model_selection import train_test_split, GridSearchCV\n",
    "from sklearn.neighbors import KNeighborsRegressor\n",
    "from sklearn.linear_model import LinearRegression\n",
    "from sklearn.linear_model import LogisticRegression\n",
    "from sklearn.datasets import make_regression\n",
    "from sklearn.metrics import confusion_matrix, accuracy_score, precision_score, recall_score, silhouette_score\n",
    "from sklearn.ensemble import RandomForestClassifier\n",
    "from scipy.cluster.hierarchy import dendrogram, linkage\n",
    "from sklearn.cluster import KMeans\n",
    "from sklearn.metrics import mean_squared_error, mean_absolute_error, r2_score\n",
    "from plotly import graph_objects as go\n",
    "warnings.filterwarnings('ignore')\n",
    "pd.set_option('display.float_format', '{:,.2f}'.format)"
   ]
  },
  {
   "cell_type": "code",
   "execution_count": 128,
   "metadata": {},
   "outputs": [
    {
     "name": "stdout",
     "output_type": "stream",
     "text": [
      "<class 'pandas.core.frame.DataFrame'>\n",
      "RangeIndex: 891 entries, 0 to 890\n",
      "Data columns (total 12 columns):\n",
      " #   Column       Non-Null Count  Dtype  \n",
      "---  ------       --------------  -----  \n",
      " 0   PassengerId  891 non-null    int64  \n",
      " 1   Survived     891 non-null    int64  \n",
      " 2   Pclass       891 non-null    int64  \n",
      " 3   Name         891 non-null    object \n",
      " 4   Sex          891 non-null    object \n",
      " 5   Age          714 non-null    float64\n",
      " 6   SibSp        891 non-null    int64  \n",
      " 7   Parch        891 non-null    int64  \n",
      " 8   Ticket       891 non-null    object \n",
      " 9   Fare         891 non-null    float64\n",
      " 10  Cabin        204 non-null    object \n",
      " 11  Embarked     889 non-null    object \n",
      "dtypes: float64(2), int64(5), object(5)\n",
      "memory usage: 83.7+ KB\n"
     ]
    },
    {
     "data": {
      "text/html": [
       "<div>\n",
       "<style scoped>\n",
       "    .dataframe tbody tr th:only-of-type {\n",
       "        vertical-align: middle;\n",
       "    }\n",
       "\n",
       "    .dataframe tbody tr th {\n",
       "        vertical-align: top;\n",
       "    }\n",
       "\n",
       "    .dataframe thead th {\n",
       "        text-align: right;\n",
       "    }\n",
       "</style>\n",
       "<table border=\"1\" class=\"dataframe\">\n",
       "  <thead>\n",
       "    <tr style=\"text-align: right;\">\n",
       "      <th></th>\n",
       "      <th>PassengerId</th>\n",
       "      <th>Survived</th>\n",
       "      <th>Pclass</th>\n",
       "      <th>Name</th>\n",
       "      <th>Sex</th>\n",
       "      <th>Age</th>\n",
       "      <th>SibSp</th>\n",
       "      <th>Parch</th>\n",
       "      <th>Ticket</th>\n",
       "      <th>Fare</th>\n",
       "      <th>Cabin</th>\n",
       "      <th>Embarked</th>\n",
       "    </tr>\n",
       "  </thead>\n",
       "  <tbody>\n",
       "    <tr>\n",
       "      <th>0</th>\n",
       "      <td>1</td>\n",
       "      <td>0</td>\n",
       "      <td>3</td>\n",
       "      <td>Braund, Mr. Owen Harris</td>\n",
       "      <td>male</td>\n",
       "      <td>22.00</td>\n",
       "      <td>1</td>\n",
       "      <td>0</td>\n",
       "      <td>A/5 21171</td>\n",
       "      <td>7.25</td>\n",
       "      <td>NaN</td>\n",
       "      <td>S</td>\n",
       "    </tr>\n",
       "    <tr>\n",
       "      <th>1</th>\n",
       "      <td>2</td>\n",
       "      <td>1</td>\n",
       "      <td>1</td>\n",
       "      <td>Cumings, Mrs. John Bradley (Florence Briggs Th...</td>\n",
       "      <td>female</td>\n",
       "      <td>38.00</td>\n",
       "      <td>1</td>\n",
       "      <td>0</td>\n",
       "      <td>PC 17599</td>\n",
       "      <td>71.28</td>\n",
       "      <td>C85</td>\n",
       "      <td>C</td>\n",
       "    </tr>\n",
       "    <tr>\n",
       "      <th>2</th>\n",
       "      <td>3</td>\n",
       "      <td>1</td>\n",
       "      <td>3</td>\n",
       "      <td>Heikkinen, Miss. Laina</td>\n",
       "      <td>female</td>\n",
       "      <td>26.00</td>\n",
       "      <td>0</td>\n",
       "      <td>0</td>\n",
       "      <td>STON/O2. 3101282</td>\n",
       "      <td>7.92</td>\n",
       "      <td>NaN</td>\n",
       "      <td>S</td>\n",
       "    </tr>\n",
       "    <tr>\n",
       "      <th>3</th>\n",
       "      <td>4</td>\n",
       "      <td>1</td>\n",
       "      <td>1</td>\n",
       "      <td>Futrelle, Mrs. Jacques Heath (Lily May Peel)</td>\n",
       "      <td>female</td>\n",
       "      <td>35.00</td>\n",
       "      <td>1</td>\n",
       "      <td>0</td>\n",
       "      <td>113803</td>\n",
       "      <td>53.10</td>\n",
       "      <td>C123</td>\n",
       "      <td>S</td>\n",
       "    </tr>\n",
       "    <tr>\n",
       "      <th>4</th>\n",
       "      <td>5</td>\n",
       "      <td>0</td>\n",
       "      <td>3</td>\n",
       "      <td>Allen, Mr. William Henry</td>\n",
       "      <td>male</td>\n",
       "      <td>35.00</td>\n",
       "      <td>0</td>\n",
       "      <td>0</td>\n",
       "      <td>373450</td>\n",
       "      <td>8.05</td>\n",
       "      <td>NaN</td>\n",
       "      <td>S</td>\n",
       "    </tr>\n",
       "  </tbody>\n",
       "</table>\n",
       "</div>"
      ],
      "text/plain": [
       "   PassengerId  Survived  Pclass  \\\n",
       "0            1         0       3   \n",
       "1            2         1       1   \n",
       "2            3         1       3   \n",
       "3            4         1       1   \n",
       "4            5         0       3   \n",
       "\n",
       "                                                Name     Sex   Age  SibSp  \\\n",
       "0                            Braund, Mr. Owen Harris    male 22.00      1   \n",
       "1  Cumings, Mrs. John Bradley (Florence Briggs Th...  female 38.00      1   \n",
       "2                             Heikkinen, Miss. Laina  female 26.00      0   \n",
       "3       Futrelle, Mrs. Jacques Heath (Lily May Peel)  female 35.00      1   \n",
       "4                           Allen, Mr. William Henry    male 35.00      0   \n",
       "\n",
       "   Parch            Ticket  Fare Cabin Embarked  \n",
       "0      0         A/5 21171  7.25   NaN        S  \n",
       "1      0          PC 17599 71.28   C85        C  \n",
       "2      0  STON/O2. 3101282  7.92   NaN        S  \n",
       "3      0            113803 53.10  C123        S  \n",
       "4      0            373450  8.05   NaN        S  "
      ]
     },
     "metadata": {},
     "output_type": "display_data"
    },
    {
     "data": {
      "text/plain": [
       "None"
      ]
     },
     "metadata": {},
     "output_type": "display_data"
    },
    {
     "data": {
      "text/html": [
       "<div>\n",
       "<style scoped>\n",
       "    .dataframe tbody tr th:only-of-type {\n",
       "        vertical-align: middle;\n",
       "    }\n",
       "\n",
       "    .dataframe tbody tr th {\n",
       "        vertical-align: top;\n",
       "    }\n",
       "\n",
       "    .dataframe thead th {\n",
       "        text-align: right;\n",
       "    }\n",
       "</style>\n",
       "<table border=\"1\" class=\"dataframe\">\n",
       "  <thead>\n",
       "    <tr style=\"text-align: right;\">\n",
       "      <th></th>\n",
       "      <th>PassengerId</th>\n",
       "      <th>Survived</th>\n",
       "      <th>Pclass</th>\n",
       "      <th>Age</th>\n",
       "      <th>SibSp</th>\n",
       "      <th>Parch</th>\n",
       "      <th>Fare</th>\n",
       "    </tr>\n",
       "  </thead>\n",
       "  <tbody>\n",
       "    <tr>\n",
       "      <th>count</th>\n",
       "      <td>891.00</td>\n",
       "      <td>891.00</td>\n",
       "      <td>891.00</td>\n",
       "      <td>714.00</td>\n",
       "      <td>891.00</td>\n",
       "      <td>891.00</td>\n",
       "      <td>891.00</td>\n",
       "    </tr>\n",
       "    <tr>\n",
       "      <th>mean</th>\n",
       "      <td>446.00</td>\n",
       "      <td>0.38</td>\n",
       "      <td>2.31</td>\n",
       "      <td>29.70</td>\n",
       "      <td>0.52</td>\n",
       "      <td>0.38</td>\n",
       "      <td>32.20</td>\n",
       "    </tr>\n",
       "    <tr>\n",
       "      <th>std</th>\n",
       "      <td>257.35</td>\n",
       "      <td>0.49</td>\n",
       "      <td>0.84</td>\n",
       "      <td>14.53</td>\n",
       "      <td>1.10</td>\n",
       "      <td>0.81</td>\n",
       "      <td>49.69</td>\n",
       "    </tr>\n",
       "    <tr>\n",
       "      <th>min</th>\n",
       "      <td>1.00</td>\n",
       "      <td>0.00</td>\n",
       "      <td>1.00</td>\n",
       "      <td>0.42</td>\n",
       "      <td>0.00</td>\n",
       "      <td>0.00</td>\n",
       "      <td>0.00</td>\n",
       "    </tr>\n",
       "    <tr>\n",
       "      <th>25%</th>\n",
       "      <td>223.50</td>\n",
       "      <td>0.00</td>\n",
       "      <td>2.00</td>\n",
       "      <td>20.12</td>\n",
       "      <td>0.00</td>\n",
       "      <td>0.00</td>\n",
       "      <td>7.91</td>\n",
       "    </tr>\n",
       "    <tr>\n",
       "      <th>50%</th>\n",
       "      <td>446.00</td>\n",
       "      <td>0.00</td>\n",
       "      <td>3.00</td>\n",
       "      <td>28.00</td>\n",
       "      <td>0.00</td>\n",
       "      <td>0.00</td>\n",
       "      <td>14.45</td>\n",
       "    </tr>\n",
       "    <tr>\n",
       "      <th>75%</th>\n",
       "      <td>668.50</td>\n",
       "      <td>1.00</td>\n",
       "      <td>3.00</td>\n",
       "      <td>38.00</td>\n",
       "      <td>1.00</td>\n",
       "      <td>0.00</td>\n",
       "      <td>31.00</td>\n",
       "    </tr>\n",
       "    <tr>\n",
       "      <th>max</th>\n",
       "      <td>891.00</td>\n",
       "      <td>1.00</td>\n",
       "      <td>3.00</td>\n",
       "      <td>80.00</td>\n",
       "      <td>8.00</td>\n",
       "      <td>6.00</td>\n",
       "      <td>512.33</td>\n",
       "    </tr>\n",
       "  </tbody>\n",
       "</table>\n",
       "</div>"
      ],
      "text/plain": [
       "       PassengerId  Survived  Pclass    Age  SibSp  Parch   Fare\n",
       "count       891.00    891.00  891.00 714.00 891.00 891.00 891.00\n",
       "mean        446.00      0.38    2.31  29.70   0.52   0.38  32.20\n",
       "std         257.35      0.49    0.84  14.53   1.10   0.81  49.69\n",
       "min           1.00      0.00    1.00   0.42   0.00   0.00   0.00\n",
       "25%         223.50      0.00    2.00  20.12   0.00   0.00   7.91\n",
       "50%         446.00      0.00    3.00  28.00   0.00   0.00  14.45\n",
       "75%         668.50      1.00    3.00  38.00   1.00   0.00  31.00\n",
       "max         891.00      1.00    3.00  80.00   8.00   6.00 512.33"
      ]
     },
     "metadata": {},
     "output_type": "display_data"
    },
    {
     "data": {
      "text/plain": [
       "0"
      ]
     },
     "metadata": {},
     "output_type": "display_data"
    },
    {
     "data": {
      "text/html": [
       "<style  type=\"text/css\" >\n",
       "</style><table id=\"T_cebd6_\" ><thead>    <tr>        <th class=\"blank level0\" ></th>        <th class=\"col_heading level0 col0\" >кол-во</th>        <th class=\"col_heading level0 col1\" >доля</th>    </tr></thead><tbody>\n",
       "                <tr>\n",
       "                        <th id=\"T_cebd6_level0_row0\" class=\"row_heading level0 row0\" >PassengerId</th>\n",
       "                        <td id=\"T_cebd6_row0_col0\" class=\"data row0 col0\" >0</td>\n",
       "                        <td id=\"T_cebd6_row0_col1\" class=\"data row0 col1\" >0.0%</td>\n",
       "            </tr>\n",
       "            <tr>\n",
       "                        <th id=\"T_cebd6_level0_row1\" class=\"row_heading level0 row1\" >Survived</th>\n",
       "                        <td id=\"T_cebd6_row1_col0\" class=\"data row1 col0\" >0</td>\n",
       "                        <td id=\"T_cebd6_row1_col1\" class=\"data row1 col1\" >0.0%</td>\n",
       "            </tr>\n",
       "            <tr>\n",
       "                        <th id=\"T_cebd6_level0_row2\" class=\"row_heading level0 row2\" >Pclass</th>\n",
       "                        <td id=\"T_cebd6_row2_col0\" class=\"data row2 col0\" >0</td>\n",
       "                        <td id=\"T_cebd6_row2_col1\" class=\"data row2 col1\" >0.0%</td>\n",
       "            </tr>\n",
       "            <tr>\n",
       "                        <th id=\"T_cebd6_level0_row3\" class=\"row_heading level0 row3\" >Name</th>\n",
       "                        <td id=\"T_cebd6_row3_col0\" class=\"data row3 col0\" >0</td>\n",
       "                        <td id=\"T_cebd6_row3_col1\" class=\"data row3 col1\" >0.0%</td>\n",
       "            </tr>\n",
       "            <tr>\n",
       "                        <th id=\"T_cebd6_level0_row4\" class=\"row_heading level0 row4\" >Sex</th>\n",
       "                        <td id=\"T_cebd6_row4_col0\" class=\"data row4 col0\" >0</td>\n",
       "                        <td id=\"T_cebd6_row4_col1\" class=\"data row4 col1\" >0.0%</td>\n",
       "            </tr>\n",
       "            <tr>\n",
       "                        <th id=\"T_cebd6_level0_row5\" class=\"row_heading level0 row5\" >Age</th>\n",
       "                        <td id=\"T_cebd6_row5_col0\" class=\"data row5 col0\" >177</td>\n",
       "                        <td id=\"T_cebd6_row5_col1\" class=\"data row5 col1\" >19.9%</td>\n",
       "            </tr>\n",
       "            <tr>\n",
       "                        <th id=\"T_cebd6_level0_row6\" class=\"row_heading level0 row6\" >SibSp</th>\n",
       "                        <td id=\"T_cebd6_row6_col0\" class=\"data row6 col0\" >0</td>\n",
       "                        <td id=\"T_cebd6_row6_col1\" class=\"data row6 col1\" >0.0%</td>\n",
       "            </tr>\n",
       "            <tr>\n",
       "                        <th id=\"T_cebd6_level0_row7\" class=\"row_heading level0 row7\" >Parch</th>\n",
       "                        <td id=\"T_cebd6_row7_col0\" class=\"data row7 col0\" >0</td>\n",
       "                        <td id=\"T_cebd6_row7_col1\" class=\"data row7 col1\" >0.0%</td>\n",
       "            </tr>\n",
       "            <tr>\n",
       "                        <th id=\"T_cebd6_level0_row8\" class=\"row_heading level0 row8\" >Ticket</th>\n",
       "                        <td id=\"T_cebd6_row8_col0\" class=\"data row8 col0\" >0</td>\n",
       "                        <td id=\"T_cebd6_row8_col1\" class=\"data row8 col1\" >0.0%</td>\n",
       "            </tr>\n",
       "            <tr>\n",
       "                        <th id=\"T_cebd6_level0_row9\" class=\"row_heading level0 row9\" >Fare</th>\n",
       "                        <td id=\"T_cebd6_row9_col0\" class=\"data row9 col0\" >0</td>\n",
       "                        <td id=\"T_cebd6_row9_col1\" class=\"data row9 col1\" >0.0%</td>\n",
       "            </tr>\n",
       "            <tr>\n",
       "                        <th id=\"T_cebd6_level0_row10\" class=\"row_heading level0 row10\" >Cabin</th>\n",
       "                        <td id=\"T_cebd6_row10_col0\" class=\"data row10 col0\" >687</td>\n",
       "                        <td id=\"T_cebd6_row10_col1\" class=\"data row10 col1\" >77.1%</td>\n",
       "            </tr>\n",
       "            <tr>\n",
       "                        <th id=\"T_cebd6_level0_row11\" class=\"row_heading level0 row11\" >Embarked</th>\n",
       "                        <td id=\"T_cebd6_row11_col0\" class=\"data row11 col0\" >2</td>\n",
       "                        <td id=\"T_cebd6_row11_col1\" class=\"data row11 col1\" >0.2%</td>\n",
       "            </tr>\n",
       "    </tbody></table>"
      ],
      "text/plain": [
       "<pandas.io.formats.style.Styler at 0x7f401b608970>"
      ]
     },
     "metadata": {},
     "output_type": "display_data"
    }
   ],
   "source": [
    "data = pd.read_csv('train.csv')\n",
    "def dataframe(data):\n",
    "    return display(data.head(),\n",
    "                   data.info(),\n",
    "                   data.describe(),\n",
    "                   data.duplicated().sum(),\n",
    "                   pd.concat([data.isna().sum(),\n",
    "                              data.isna().mean()],\n",
    "                             axis=1)\n",
    "                   .rename(columns={0:'кол-во', 1:'доля'})\n",
    "                   .style.format({'кол-во':'{:.0f}', 'доля':'{:.1%}'})\n",
    "                  )\n",
    "dataframe(data)"
   ]
  },
  {
   "cell_type": "code",
   "execution_count": 129,
   "metadata": {},
   "outputs": [
    {
     "name": "stdout",
     "output_type": "stream",
     "text": [
      "<class 'pandas.core.frame.DataFrame'>\n",
      "RangeIndex: 418 entries, 0 to 417\n",
      "Data columns (total 11 columns):\n",
      " #   Column       Non-Null Count  Dtype  \n",
      "---  ------       --------------  -----  \n",
      " 0   PassengerId  418 non-null    int64  \n",
      " 1   Pclass       418 non-null    int64  \n",
      " 2   Name         418 non-null    object \n",
      " 3   Sex          418 non-null    object \n",
      " 4   Age          332 non-null    float64\n",
      " 5   SibSp        418 non-null    int64  \n",
      " 6   Parch        418 non-null    int64  \n",
      " 7   Ticket       418 non-null    object \n",
      " 8   Fare         417 non-null    float64\n",
      " 9   Cabin        91 non-null     object \n",
      " 10  Embarked     418 non-null    object \n",
      "dtypes: float64(2), int64(4), object(5)\n",
      "memory usage: 36.0+ KB\n"
     ]
    },
    {
     "data": {
      "text/html": [
       "<div>\n",
       "<style scoped>\n",
       "    .dataframe tbody tr th:only-of-type {\n",
       "        vertical-align: middle;\n",
       "    }\n",
       "\n",
       "    .dataframe tbody tr th {\n",
       "        vertical-align: top;\n",
       "    }\n",
       "\n",
       "    .dataframe thead th {\n",
       "        text-align: right;\n",
       "    }\n",
       "</style>\n",
       "<table border=\"1\" class=\"dataframe\">\n",
       "  <thead>\n",
       "    <tr style=\"text-align: right;\">\n",
       "      <th></th>\n",
       "      <th>PassengerId</th>\n",
       "      <th>Pclass</th>\n",
       "      <th>Name</th>\n",
       "      <th>Sex</th>\n",
       "      <th>Age</th>\n",
       "      <th>SibSp</th>\n",
       "      <th>Parch</th>\n",
       "      <th>Ticket</th>\n",
       "      <th>Fare</th>\n",
       "      <th>Cabin</th>\n",
       "      <th>Embarked</th>\n",
       "    </tr>\n",
       "  </thead>\n",
       "  <tbody>\n",
       "    <tr>\n",
       "      <th>0</th>\n",
       "      <td>892</td>\n",
       "      <td>3</td>\n",
       "      <td>Kelly, Mr. James</td>\n",
       "      <td>male</td>\n",
       "      <td>34.50</td>\n",
       "      <td>0</td>\n",
       "      <td>0</td>\n",
       "      <td>330911</td>\n",
       "      <td>7.83</td>\n",
       "      <td>NaN</td>\n",
       "      <td>Q</td>\n",
       "    </tr>\n",
       "    <tr>\n",
       "      <th>1</th>\n",
       "      <td>893</td>\n",
       "      <td>3</td>\n",
       "      <td>Wilkes, Mrs. James (Ellen Needs)</td>\n",
       "      <td>female</td>\n",
       "      <td>47.00</td>\n",
       "      <td>1</td>\n",
       "      <td>0</td>\n",
       "      <td>363272</td>\n",
       "      <td>7.00</td>\n",
       "      <td>NaN</td>\n",
       "      <td>S</td>\n",
       "    </tr>\n",
       "    <tr>\n",
       "      <th>2</th>\n",
       "      <td>894</td>\n",
       "      <td>2</td>\n",
       "      <td>Myles, Mr. Thomas Francis</td>\n",
       "      <td>male</td>\n",
       "      <td>62.00</td>\n",
       "      <td>0</td>\n",
       "      <td>0</td>\n",
       "      <td>240276</td>\n",
       "      <td>9.69</td>\n",
       "      <td>NaN</td>\n",
       "      <td>Q</td>\n",
       "    </tr>\n",
       "    <tr>\n",
       "      <th>3</th>\n",
       "      <td>895</td>\n",
       "      <td>3</td>\n",
       "      <td>Wirz, Mr. Albert</td>\n",
       "      <td>male</td>\n",
       "      <td>27.00</td>\n",
       "      <td>0</td>\n",
       "      <td>0</td>\n",
       "      <td>315154</td>\n",
       "      <td>8.66</td>\n",
       "      <td>NaN</td>\n",
       "      <td>S</td>\n",
       "    </tr>\n",
       "    <tr>\n",
       "      <th>4</th>\n",
       "      <td>896</td>\n",
       "      <td>3</td>\n",
       "      <td>Hirvonen, Mrs. Alexander (Helga E Lindqvist)</td>\n",
       "      <td>female</td>\n",
       "      <td>22.00</td>\n",
       "      <td>1</td>\n",
       "      <td>1</td>\n",
       "      <td>3101298</td>\n",
       "      <td>12.29</td>\n",
       "      <td>NaN</td>\n",
       "      <td>S</td>\n",
       "    </tr>\n",
       "  </tbody>\n",
       "</table>\n",
       "</div>"
      ],
      "text/plain": [
       "   PassengerId  Pclass                                          Name     Sex  \\\n",
       "0          892       3                              Kelly, Mr. James    male   \n",
       "1          893       3              Wilkes, Mrs. James (Ellen Needs)  female   \n",
       "2          894       2                     Myles, Mr. Thomas Francis    male   \n",
       "3          895       3                              Wirz, Mr. Albert    male   \n",
       "4          896       3  Hirvonen, Mrs. Alexander (Helga E Lindqvist)  female   \n",
       "\n",
       "    Age  SibSp  Parch   Ticket  Fare Cabin Embarked  \n",
       "0 34.50      0      0   330911  7.83   NaN        Q  \n",
       "1 47.00      1      0   363272  7.00   NaN        S  \n",
       "2 62.00      0      0   240276  9.69   NaN        Q  \n",
       "3 27.00      0      0   315154  8.66   NaN        S  \n",
       "4 22.00      1      1  3101298 12.29   NaN        S  "
      ]
     },
     "metadata": {},
     "output_type": "display_data"
    },
    {
     "data": {
      "text/plain": [
       "None"
      ]
     },
     "metadata": {},
     "output_type": "display_data"
    },
    {
     "data": {
      "text/html": [
       "<div>\n",
       "<style scoped>\n",
       "    .dataframe tbody tr th:only-of-type {\n",
       "        vertical-align: middle;\n",
       "    }\n",
       "\n",
       "    .dataframe tbody tr th {\n",
       "        vertical-align: top;\n",
       "    }\n",
       "\n",
       "    .dataframe thead th {\n",
       "        text-align: right;\n",
       "    }\n",
       "</style>\n",
       "<table border=\"1\" class=\"dataframe\">\n",
       "  <thead>\n",
       "    <tr style=\"text-align: right;\">\n",
       "      <th></th>\n",
       "      <th>PassengerId</th>\n",
       "      <th>Pclass</th>\n",
       "      <th>Age</th>\n",
       "      <th>SibSp</th>\n",
       "      <th>Parch</th>\n",
       "      <th>Fare</th>\n",
       "    </tr>\n",
       "  </thead>\n",
       "  <tbody>\n",
       "    <tr>\n",
       "      <th>count</th>\n",
       "      <td>418.00</td>\n",
       "      <td>418.00</td>\n",
       "      <td>332.00</td>\n",
       "      <td>418.00</td>\n",
       "      <td>418.00</td>\n",
       "      <td>417.00</td>\n",
       "    </tr>\n",
       "    <tr>\n",
       "      <th>mean</th>\n",
       "      <td>1,100.50</td>\n",
       "      <td>2.27</td>\n",
       "      <td>30.27</td>\n",
       "      <td>0.45</td>\n",
       "      <td>0.39</td>\n",
       "      <td>35.63</td>\n",
       "    </tr>\n",
       "    <tr>\n",
       "      <th>std</th>\n",
       "      <td>120.81</td>\n",
       "      <td>0.84</td>\n",
       "      <td>14.18</td>\n",
       "      <td>0.90</td>\n",
       "      <td>0.98</td>\n",
       "      <td>55.91</td>\n",
       "    </tr>\n",
       "    <tr>\n",
       "      <th>min</th>\n",
       "      <td>892.00</td>\n",
       "      <td>1.00</td>\n",
       "      <td>0.17</td>\n",
       "      <td>0.00</td>\n",
       "      <td>0.00</td>\n",
       "      <td>0.00</td>\n",
       "    </tr>\n",
       "    <tr>\n",
       "      <th>25%</th>\n",
       "      <td>996.25</td>\n",
       "      <td>1.00</td>\n",
       "      <td>21.00</td>\n",
       "      <td>0.00</td>\n",
       "      <td>0.00</td>\n",
       "      <td>7.90</td>\n",
       "    </tr>\n",
       "    <tr>\n",
       "      <th>50%</th>\n",
       "      <td>1,100.50</td>\n",
       "      <td>3.00</td>\n",
       "      <td>27.00</td>\n",
       "      <td>0.00</td>\n",
       "      <td>0.00</td>\n",
       "      <td>14.45</td>\n",
       "    </tr>\n",
       "    <tr>\n",
       "      <th>75%</th>\n",
       "      <td>1,204.75</td>\n",
       "      <td>3.00</td>\n",
       "      <td>39.00</td>\n",
       "      <td>1.00</td>\n",
       "      <td>0.00</td>\n",
       "      <td>31.50</td>\n",
       "    </tr>\n",
       "    <tr>\n",
       "      <th>max</th>\n",
       "      <td>1,309.00</td>\n",
       "      <td>3.00</td>\n",
       "      <td>76.00</td>\n",
       "      <td>8.00</td>\n",
       "      <td>9.00</td>\n",
       "      <td>512.33</td>\n",
       "    </tr>\n",
       "  </tbody>\n",
       "</table>\n",
       "</div>"
      ],
      "text/plain": [
       "       PassengerId  Pclass    Age  SibSp  Parch   Fare\n",
       "count       418.00  418.00 332.00 418.00 418.00 417.00\n",
       "mean      1,100.50    2.27  30.27   0.45   0.39  35.63\n",
       "std         120.81    0.84  14.18   0.90   0.98  55.91\n",
       "min         892.00    1.00   0.17   0.00   0.00   0.00\n",
       "25%         996.25    1.00  21.00   0.00   0.00   7.90\n",
       "50%       1,100.50    3.00  27.00   0.00   0.00  14.45\n",
       "75%       1,204.75    3.00  39.00   1.00   0.00  31.50\n",
       "max       1,309.00    3.00  76.00   8.00   9.00 512.33"
      ]
     },
     "metadata": {},
     "output_type": "display_data"
    },
    {
     "data": {
      "text/plain": [
       "0"
      ]
     },
     "metadata": {},
     "output_type": "display_data"
    },
    {
     "data": {
      "text/html": [
       "<style  type=\"text/css\" >\n",
       "</style><table id=\"T_a7b49_\" ><thead>    <tr>        <th class=\"blank level0\" ></th>        <th class=\"col_heading level0 col0\" >кол-во</th>        <th class=\"col_heading level0 col1\" >доля</th>    </tr></thead><tbody>\n",
       "                <tr>\n",
       "                        <th id=\"T_a7b49_level0_row0\" class=\"row_heading level0 row0\" >PassengerId</th>\n",
       "                        <td id=\"T_a7b49_row0_col0\" class=\"data row0 col0\" >0</td>\n",
       "                        <td id=\"T_a7b49_row0_col1\" class=\"data row0 col1\" >0.0%</td>\n",
       "            </tr>\n",
       "            <tr>\n",
       "                        <th id=\"T_a7b49_level0_row1\" class=\"row_heading level0 row1\" >Pclass</th>\n",
       "                        <td id=\"T_a7b49_row1_col0\" class=\"data row1 col0\" >0</td>\n",
       "                        <td id=\"T_a7b49_row1_col1\" class=\"data row1 col1\" >0.0%</td>\n",
       "            </tr>\n",
       "            <tr>\n",
       "                        <th id=\"T_a7b49_level0_row2\" class=\"row_heading level0 row2\" >Name</th>\n",
       "                        <td id=\"T_a7b49_row2_col0\" class=\"data row2 col0\" >0</td>\n",
       "                        <td id=\"T_a7b49_row2_col1\" class=\"data row2 col1\" >0.0%</td>\n",
       "            </tr>\n",
       "            <tr>\n",
       "                        <th id=\"T_a7b49_level0_row3\" class=\"row_heading level0 row3\" >Sex</th>\n",
       "                        <td id=\"T_a7b49_row3_col0\" class=\"data row3 col0\" >0</td>\n",
       "                        <td id=\"T_a7b49_row3_col1\" class=\"data row3 col1\" >0.0%</td>\n",
       "            </tr>\n",
       "            <tr>\n",
       "                        <th id=\"T_a7b49_level0_row4\" class=\"row_heading level0 row4\" >Age</th>\n",
       "                        <td id=\"T_a7b49_row4_col0\" class=\"data row4 col0\" >86</td>\n",
       "                        <td id=\"T_a7b49_row4_col1\" class=\"data row4 col1\" >20.6%</td>\n",
       "            </tr>\n",
       "            <tr>\n",
       "                        <th id=\"T_a7b49_level0_row5\" class=\"row_heading level0 row5\" >SibSp</th>\n",
       "                        <td id=\"T_a7b49_row5_col0\" class=\"data row5 col0\" >0</td>\n",
       "                        <td id=\"T_a7b49_row5_col1\" class=\"data row5 col1\" >0.0%</td>\n",
       "            </tr>\n",
       "            <tr>\n",
       "                        <th id=\"T_a7b49_level0_row6\" class=\"row_heading level0 row6\" >Parch</th>\n",
       "                        <td id=\"T_a7b49_row6_col0\" class=\"data row6 col0\" >0</td>\n",
       "                        <td id=\"T_a7b49_row6_col1\" class=\"data row6 col1\" >0.0%</td>\n",
       "            </tr>\n",
       "            <tr>\n",
       "                        <th id=\"T_a7b49_level0_row7\" class=\"row_heading level0 row7\" >Ticket</th>\n",
       "                        <td id=\"T_a7b49_row7_col0\" class=\"data row7 col0\" >0</td>\n",
       "                        <td id=\"T_a7b49_row7_col1\" class=\"data row7 col1\" >0.0%</td>\n",
       "            </tr>\n",
       "            <tr>\n",
       "                        <th id=\"T_a7b49_level0_row8\" class=\"row_heading level0 row8\" >Fare</th>\n",
       "                        <td id=\"T_a7b49_row8_col0\" class=\"data row8 col0\" >1</td>\n",
       "                        <td id=\"T_a7b49_row8_col1\" class=\"data row8 col1\" >0.2%</td>\n",
       "            </tr>\n",
       "            <tr>\n",
       "                        <th id=\"T_a7b49_level0_row9\" class=\"row_heading level0 row9\" >Cabin</th>\n",
       "                        <td id=\"T_a7b49_row9_col0\" class=\"data row9 col0\" >327</td>\n",
       "                        <td id=\"T_a7b49_row9_col1\" class=\"data row9 col1\" >78.2%</td>\n",
       "            </tr>\n",
       "            <tr>\n",
       "                        <th id=\"T_a7b49_level0_row10\" class=\"row_heading level0 row10\" >Embarked</th>\n",
       "                        <td id=\"T_a7b49_row10_col0\" class=\"data row10 col0\" >0</td>\n",
       "                        <td id=\"T_a7b49_row10_col1\" class=\"data row10 col1\" >0.0%</td>\n",
       "            </tr>\n",
       "    </tbody></table>"
      ],
      "text/plain": [
       "<pandas.io.formats.style.Styler at 0x7f401b532f40>"
      ]
     },
     "metadata": {},
     "output_type": "display_data"
    }
   ],
   "source": [
    "data1 = pd.read_csv('test.csv')\n",
    "dataframe(data1)"
   ]
  },
  {
   "cell_type": "code",
   "execution_count": 130,
   "metadata": {
    "scrolled": false
   },
   "outputs": [
    {
     "name": "stdout",
     "output_type": "stream",
     "text": [
      "<class 'pandas.core.frame.DataFrame'>\n",
      "RangeIndex: 418 entries, 0 to 417\n",
      "Data columns (total 2 columns):\n",
      " #   Column       Non-Null Count  Dtype\n",
      "---  ------       --------------  -----\n",
      " 0   PassengerId  418 non-null    int64\n",
      " 1   Survived     418 non-null    int64\n",
      "dtypes: int64(2)\n",
      "memory usage: 6.7 KB\n"
     ]
    },
    {
     "data": {
      "text/html": [
       "<div>\n",
       "<style scoped>\n",
       "    .dataframe tbody tr th:only-of-type {\n",
       "        vertical-align: middle;\n",
       "    }\n",
       "\n",
       "    .dataframe tbody tr th {\n",
       "        vertical-align: top;\n",
       "    }\n",
       "\n",
       "    .dataframe thead th {\n",
       "        text-align: right;\n",
       "    }\n",
       "</style>\n",
       "<table border=\"1\" class=\"dataframe\">\n",
       "  <thead>\n",
       "    <tr style=\"text-align: right;\">\n",
       "      <th></th>\n",
       "      <th>PassengerId</th>\n",
       "      <th>Survived</th>\n",
       "    </tr>\n",
       "  </thead>\n",
       "  <tbody>\n",
       "    <tr>\n",
       "      <th>0</th>\n",
       "      <td>892</td>\n",
       "      <td>0</td>\n",
       "    </tr>\n",
       "    <tr>\n",
       "      <th>1</th>\n",
       "      <td>893</td>\n",
       "      <td>1</td>\n",
       "    </tr>\n",
       "    <tr>\n",
       "      <th>2</th>\n",
       "      <td>894</td>\n",
       "      <td>0</td>\n",
       "    </tr>\n",
       "    <tr>\n",
       "      <th>3</th>\n",
       "      <td>895</td>\n",
       "      <td>0</td>\n",
       "    </tr>\n",
       "    <tr>\n",
       "      <th>4</th>\n",
       "      <td>896</td>\n",
       "      <td>1</td>\n",
       "    </tr>\n",
       "  </tbody>\n",
       "</table>\n",
       "</div>"
      ],
      "text/plain": [
       "   PassengerId  Survived\n",
       "0          892         0\n",
       "1          893         1\n",
       "2          894         0\n",
       "3          895         0\n",
       "4          896         1"
      ]
     },
     "metadata": {},
     "output_type": "display_data"
    },
    {
     "data": {
      "text/plain": [
       "None"
      ]
     },
     "metadata": {},
     "output_type": "display_data"
    },
    {
     "data": {
      "text/html": [
       "<div>\n",
       "<style scoped>\n",
       "    .dataframe tbody tr th:only-of-type {\n",
       "        vertical-align: middle;\n",
       "    }\n",
       "\n",
       "    .dataframe tbody tr th {\n",
       "        vertical-align: top;\n",
       "    }\n",
       "\n",
       "    .dataframe thead th {\n",
       "        text-align: right;\n",
       "    }\n",
       "</style>\n",
       "<table border=\"1\" class=\"dataframe\">\n",
       "  <thead>\n",
       "    <tr style=\"text-align: right;\">\n",
       "      <th></th>\n",
       "      <th>PassengerId</th>\n",
       "      <th>Survived</th>\n",
       "    </tr>\n",
       "  </thead>\n",
       "  <tbody>\n",
       "    <tr>\n",
       "      <th>count</th>\n",
       "      <td>418.00</td>\n",
       "      <td>418.00</td>\n",
       "    </tr>\n",
       "    <tr>\n",
       "      <th>mean</th>\n",
       "      <td>1,100.50</td>\n",
       "      <td>0.36</td>\n",
       "    </tr>\n",
       "    <tr>\n",
       "      <th>std</th>\n",
       "      <td>120.81</td>\n",
       "      <td>0.48</td>\n",
       "    </tr>\n",
       "    <tr>\n",
       "      <th>min</th>\n",
       "      <td>892.00</td>\n",
       "      <td>0.00</td>\n",
       "    </tr>\n",
       "    <tr>\n",
       "      <th>25%</th>\n",
       "      <td>996.25</td>\n",
       "      <td>0.00</td>\n",
       "    </tr>\n",
       "    <tr>\n",
       "      <th>50%</th>\n",
       "      <td>1,100.50</td>\n",
       "      <td>0.00</td>\n",
       "    </tr>\n",
       "    <tr>\n",
       "      <th>75%</th>\n",
       "      <td>1,204.75</td>\n",
       "      <td>1.00</td>\n",
       "    </tr>\n",
       "    <tr>\n",
       "      <th>max</th>\n",
       "      <td>1,309.00</td>\n",
       "      <td>1.00</td>\n",
       "    </tr>\n",
       "  </tbody>\n",
       "</table>\n",
       "</div>"
      ],
      "text/plain": [
       "       PassengerId  Survived\n",
       "count       418.00    418.00\n",
       "mean      1,100.50      0.36\n",
       "std         120.81      0.48\n",
       "min         892.00      0.00\n",
       "25%         996.25      0.00\n",
       "50%       1,100.50      0.00\n",
       "75%       1,204.75      1.00\n",
       "max       1,309.00      1.00"
      ]
     },
     "metadata": {},
     "output_type": "display_data"
    },
    {
     "data": {
      "text/plain": [
       "0"
      ]
     },
     "metadata": {},
     "output_type": "display_data"
    },
    {
     "data": {
      "text/html": [
       "<style  type=\"text/css\" >\n",
       "</style><table id=\"T_80c7a_\" ><thead>    <tr>        <th class=\"blank level0\" ></th>        <th class=\"col_heading level0 col0\" >кол-во</th>        <th class=\"col_heading level0 col1\" >доля</th>    </tr></thead><tbody>\n",
       "                <tr>\n",
       "                        <th id=\"T_80c7a_level0_row0\" class=\"row_heading level0 row0\" >PassengerId</th>\n",
       "                        <td id=\"T_80c7a_row0_col0\" class=\"data row0 col0\" >0</td>\n",
       "                        <td id=\"T_80c7a_row0_col1\" class=\"data row0 col1\" >0.0%</td>\n",
       "            </tr>\n",
       "            <tr>\n",
       "                        <th id=\"T_80c7a_level0_row1\" class=\"row_heading level0 row1\" >Survived</th>\n",
       "                        <td id=\"T_80c7a_row1_col0\" class=\"data row1 col0\" >0</td>\n",
       "                        <td id=\"T_80c7a_row1_col1\" class=\"data row1 col1\" >0.0%</td>\n",
       "            </tr>\n",
       "    </tbody></table>"
      ],
      "text/plain": [
       "<pandas.io.formats.style.Styler at 0x7f40249187f0>"
      ]
     },
     "metadata": {},
     "output_type": "display_data"
    }
   ],
   "source": [
    "df2 = pd.read_csv('gender_submission.csv')\n",
    "dataframe(df2)"
   ]
  },
  {
   "cell_type": "markdown",
   "metadata": {},
   "source": [
    "Удалим столбцы с категориальными данными, потом обработаем их(когда скажут зачем)."
   ]
  },
  {
   "cell_type": "code",
   "execution_count": 131,
   "metadata": {},
   "outputs": [],
   "source": [
    "df = data.drop(columns=['PassengerId','Name','Sex','Cabin','Embarked'])\n",
    "df1 = data1.drop(columns=['PassengerId','Name','Sex','Cabin','Embarked'])"
   ]
  },
  {
   "cell_type": "code",
   "execution_count": 132,
   "metadata": {},
   "outputs": [],
   "source": [
    "df = df.dropna(subset=['Age']).reset_index(drop=True)\n",
    "df1 = df1.dropna(subset=['Age']).reset_index(drop=True)"
   ]
  },
  {
   "cell_type": "code",
   "execution_count": 133,
   "metadata": {},
   "outputs": [],
   "source": [
    "X_train = df.drop('Ticket', axis =1)\n",
    "y_train = df['Ticket']"
   ]
  },
  {
   "cell_type": "code",
   "execution_count": 134,
   "metadata": {},
   "outputs": [],
   "source": [
    "X_test = df1.drop('Ticket', axis =1)\n",
    "y_test = df1['Ticket']"
   ]
  },
  {
   "cell_type": "code",
   "execution_count": 135,
   "metadata": {},
   "outputs": [
    {
     "data": {
      "text/plain": [
       "KNeighborsRegressor()"
      ]
     },
     "execution_count": 135,
     "metadata": {},
     "output_type": "execute_result"
    }
   ],
   "source": [
    "knn = KNeighborsRegressor()\n",
    "knn.fit(X_train, y_train)"
   ]
  },
  {
   "cell_type": "code",
   "execution_count": 136,
   "metadata": {},
   "outputs": [
    {
     "data": {
      "text/html": [
       "<div>\n",
       "<style scoped>\n",
       "    .dataframe tbody tr th:only-of-type {\n",
       "        vertical-align: middle;\n",
       "    }\n",
       "\n",
       "    .dataframe tbody tr th {\n",
       "        vertical-align: top;\n",
       "    }\n",
       "\n",
       "    .dataframe thead th {\n",
       "        text-align: right;\n",
       "    }\n",
       "</style>\n",
       "<table border=\"1\" class=\"dataframe\">\n",
       "  <thead>\n",
       "    <tr style=\"text-align: right;\">\n",
       "      <th></th>\n",
       "      <th>Pclass</th>\n",
       "      <th>Age</th>\n",
       "      <th>SibSp</th>\n",
       "      <th>Parch</th>\n",
       "      <th>Fare</th>\n",
       "    </tr>\n",
       "  </thead>\n",
       "  <tbody>\n",
       "    <tr>\n",
       "      <th>0</th>\n",
       "      <td>3</td>\n",
       "      <td>34.50</td>\n",
       "      <td>0</td>\n",
       "      <td>0</td>\n",
       "      <td>7.83</td>\n",
       "    </tr>\n",
       "    <tr>\n",
       "      <th>1</th>\n",
       "      <td>3</td>\n",
       "      <td>47.00</td>\n",
       "      <td>1</td>\n",
       "      <td>0</td>\n",
       "      <td>7.00</td>\n",
       "    </tr>\n",
       "    <tr>\n",
       "      <th>2</th>\n",
       "      <td>2</td>\n",
       "      <td>62.00</td>\n",
       "      <td>0</td>\n",
       "      <td>0</td>\n",
       "      <td>9.69</td>\n",
       "    </tr>\n",
       "    <tr>\n",
       "      <th>3</th>\n",
       "      <td>3</td>\n",
       "      <td>27.00</td>\n",
       "      <td>0</td>\n",
       "      <td>0</td>\n",
       "      <td>8.66</td>\n",
       "    </tr>\n",
       "    <tr>\n",
       "      <th>4</th>\n",
       "      <td>3</td>\n",
       "      <td>22.00</td>\n",
       "      <td>1</td>\n",
       "      <td>1</td>\n",
       "      <td>12.29</td>\n",
       "    </tr>\n",
       "    <tr>\n",
       "      <th>...</th>\n",
       "      <td>...</td>\n",
       "      <td>...</td>\n",
       "      <td>...</td>\n",
       "      <td>...</td>\n",
       "      <td>...</td>\n",
       "    </tr>\n",
       "    <tr>\n",
       "      <th>327</th>\n",
       "      <td>3</td>\n",
       "      <td>3.00</td>\n",
       "      <td>1</td>\n",
       "      <td>1</td>\n",
       "      <td>13.78</td>\n",
       "    </tr>\n",
       "    <tr>\n",
       "      <th>328</th>\n",
       "      <td>1</td>\n",
       "      <td>37.00</td>\n",
       "      <td>1</td>\n",
       "      <td>0</td>\n",
       "      <td>90.00</td>\n",
       "    </tr>\n",
       "    <tr>\n",
       "      <th>329</th>\n",
       "      <td>3</td>\n",
       "      <td>28.00</td>\n",
       "      <td>0</td>\n",
       "      <td>0</td>\n",
       "      <td>7.78</td>\n",
       "    </tr>\n",
       "    <tr>\n",
       "      <th>330</th>\n",
       "      <td>1</td>\n",
       "      <td>39.00</td>\n",
       "      <td>0</td>\n",
       "      <td>0</td>\n",
       "      <td>108.90</td>\n",
       "    </tr>\n",
       "    <tr>\n",
       "      <th>331</th>\n",
       "      <td>3</td>\n",
       "      <td>38.50</td>\n",
       "      <td>0</td>\n",
       "      <td>0</td>\n",
       "      <td>7.25</td>\n",
       "    </tr>\n",
       "  </tbody>\n",
       "</table>\n",
       "<p>332 rows × 5 columns</p>\n",
       "</div>"
      ],
      "text/plain": [
       "     Pclass   Age  SibSp  Parch   Fare\n",
       "0         3 34.50      0      0   7.83\n",
       "1         3 47.00      1      0   7.00\n",
       "2         2 62.00      0      0   9.69\n",
       "3         3 27.00      0      0   8.66\n",
       "4         3 22.00      1      1  12.29\n",
       "..      ...   ...    ...    ...    ...\n",
       "327       3  3.00      1      1  13.78\n",
       "328       1 37.00      1      0  90.00\n",
       "329       3 28.00      0      0   7.78\n",
       "330       1 39.00      0      0 108.90\n",
       "331       3 38.50      0      0   7.25\n",
       "\n",
       "[332 rows x 5 columns]"
      ]
     },
     "execution_count": 136,
     "metadata": {},
     "output_type": "execute_result"
    }
   ],
   "source": [
    "X_test"
   ]
  },
  {
   "cell_type": "markdown",
   "metadata": {},
   "source": [
    "## Кластеризация "
   ]
  },
  {
   "cell_type": "markdown",
   "metadata": {},
   "source": [
    "### Стандартизация данных"
   ]
  },
  {
   "cell_type": "code",
   "execution_count": 137,
   "metadata": {},
   "outputs": [],
   "source": [
    "scaler = StandardScaler()\n",
    "X_sc = scaler.fit_transform(X_train)"
   ]
  },
  {
   "cell_type": "markdown",
   "metadata": {},
   "source": [
    "### Построение матрицы расстояний, отрисовка дендрограммы"
   ]
  },
  {
   "cell_type": "code",
   "execution_count": 138,
   "metadata": {},
   "outputs": [
    {
     "data": {
      "image/png": "[encoded data removed]",
      "text/plain": [
       "<Figure size 1080x720 with 1 Axes>"
      ]
     },
     "metadata": {
      "needs_background": "light"
     },
     "output_type": "display_data"
    }
   ],
   "source": [
    "linked = linkage(X_sc, method = 'ward')\n",
    "plt.figure(figsize=(15, 10))  \n",
    "dendrogram(linked, orientation='top')\n",
    "plt.title('Иерархическая кластеризация')\n",
    "plt.show()"
   ]
  },
  {
   "cell_type": "markdown",
   "metadata": {},
   "source": [
    "### Кластеризация на основании алгоритма K-Means"
   ]
  },
  {
   "cell_type": "markdown",
   "metadata": {},
   "source": [
    "#### Обучение модели, кластеризация"
   ]
  },
  {
   "cell_type": "code",
   "execution_count": 141,
   "metadata": {},
   "outputs": [
    {
     "data": {
      "text/html": [
       "<div>\n",
       "<style scoped>\n",
       "    .dataframe tbody tr th:only-of-type {\n",
       "        vertical-align: middle;\n",
       "    }\n",
       "\n",
       "    .dataframe tbody tr th {\n",
       "        vertical-align: top;\n",
       "    }\n",
       "\n",
       "    .dataframe thead th {\n",
       "        text-align: right;\n",
       "    }\n",
       "</style>\n",
       "<table border=\"1\" class=\"dataframe\">\n",
       "  <thead>\n",
       "    <tr style=\"text-align: right;\">\n",
       "      <th></th>\n",
       "      <th>Survived</th>\n",
       "      <th>Pclass</th>\n",
       "      <th>Age</th>\n",
       "      <th>SibSp</th>\n",
       "      <th>Parch</th>\n",
       "      <th>Ticket</th>\n",
       "      <th>Fare</th>\n",
       "      <th>cluster</th>\n",
       "    </tr>\n",
       "  </thead>\n",
       "  <tbody>\n",
       "    <tr>\n",
       "      <th>0</th>\n",
       "      <td>0</td>\n",
       "      <td>3</td>\n",
       "      <td>22.00</td>\n",
       "      <td>1</td>\n",
       "      <td>0</td>\n",
       "      <td>A/5 21171</td>\n",
       "      <td>7.25</td>\n",
       "      <td>1</td>\n",
       "    </tr>\n",
       "    <tr>\n",
       "      <th>1</th>\n",
       "      <td>1</td>\n",
       "      <td>1</td>\n",
       "      <td>38.00</td>\n",
       "      <td>1</td>\n",
       "      <td>0</td>\n",
       "      <td>PC 17599</td>\n",
       "      <td>71.28</td>\n",
       "      <td>3</td>\n",
       "    </tr>\n",
       "    <tr>\n",
       "      <th>2</th>\n",
       "      <td>1</td>\n",
       "      <td>3</td>\n",
       "      <td>26.00</td>\n",
       "      <td>0</td>\n",
       "      <td>0</td>\n",
       "      <td>STON/O2. 3101282</td>\n",
       "      <td>7.92</td>\n",
       "      <td>0</td>\n",
       "    </tr>\n",
       "    <tr>\n",
       "      <th>3</th>\n",
       "      <td>1</td>\n",
       "      <td>1</td>\n",
       "      <td>35.00</td>\n",
       "      <td>1</td>\n",
       "      <td>0</td>\n",
       "      <td>113803</td>\n",
       "      <td>53.10</td>\n",
       "      <td>3</td>\n",
       "    </tr>\n",
       "    <tr>\n",
       "      <th>4</th>\n",
       "      <td>0</td>\n",
       "      <td>3</td>\n",
       "      <td>35.00</td>\n",
       "      <td>0</td>\n",
       "      <td>0</td>\n",
       "      <td>373450</td>\n",
       "      <td>8.05</td>\n",
       "      <td>1</td>\n",
       "    </tr>\n",
       "  </tbody>\n",
       "</table>\n",
       "</div>"
      ],
      "text/plain": [
       "   Survived  Pclass   Age  SibSp  Parch            Ticket  Fare  cluster\n",
       "0         0       3 22.00      1      0         A/5 21171  7.25        1\n",
       "1         1       1 38.00      1      0          PC 17599 71.28        3\n",
       "2         1       3 26.00      0      0  STON/O2. 3101282  7.92        0\n",
       "3         1       1 35.00      1      0            113803 53.10        3\n",
       "4         0       3 35.00      0      0            373450  8.05        1"
      ]
     },
     "execution_count": 141,
     "metadata": {},
     "output_type": "execute_result"
    }
   ],
   "source": [
    "km = KMeans(n_clusters=4, random_state=0)\n",
    "labels = km.fit_predict(X_sc)\n",
    "df['cluster'] = labels\n",
    "df.head()"
   ]
  },
  {
   "cell_type": "markdown",
   "metadata": {},
   "source": [
    "#### Средние значения признаков для кластеров"
   ]
  },
  {
   "cell_type": "code",
   "execution_count": 142,
   "metadata": {
    "scrolled": false
   },
   "outputs": [
    {
     "data": {
      "text/html": [
       "<div>\n",
       "<style scoped>\n",
       "    .dataframe tbody tr th:only-of-type {\n",
       "        vertical-align: middle;\n",
       "    }\n",
       "\n",
       "    .dataframe tbody tr th {\n",
       "        vertical-align: top;\n",
       "    }\n",
       "\n",
       "    .dataframe thead th {\n",
       "        text-align: right;\n",
       "    }\n",
       "</style>\n",
       "<table border=\"1\" class=\"dataframe\">\n",
       "  <thead>\n",
       "    <tr style=\"text-align: right;\">\n",
       "      <th>cluster</th>\n",
       "      <th>0</th>\n",
       "      <th>1</th>\n",
       "      <th>2</th>\n",
       "      <th>3</th>\n",
       "    </tr>\n",
       "  </thead>\n",
       "  <tbody>\n",
       "    <tr>\n",
       "      <th>Survived</th>\n",
       "      <td>1.00</td>\n",
       "      <td>0.00</td>\n",
       "      <td>0.10</td>\n",
       "      <td>0.67</td>\n",
       "    </tr>\n",
       "    <tr>\n",
       "      <th>Pclass</th>\n",
       "      <td>2.47</td>\n",
       "      <td>2.70</td>\n",
       "      <td>2.90</td>\n",
       "      <td>1.02</td>\n",
       "    </tr>\n",
       "    <tr>\n",
       "      <th>Age</th>\n",
       "      <td>22.63</td>\n",
       "      <td>29.92</td>\n",
       "      <td>16.25</td>\n",
       "      <td>39.28</td>\n",
       "    </tr>\n",
       "    <tr>\n",
       "      <th>SibSp</th>\n",
       "      <td>0.40</td>\n",
       "      <td>0.24</td>\n",
       "      <td>2.90</td>\n",
       "      <td>0.46</td>\n",
       "    </tr>\n",
       "    <tr>\n",
       "      <th>Parch</th>\n",
       "      <td>0.55</td>\n",
       "      <td>0.11</td>\n",
       "      <td>2.31</td>\n",
       "      <td>0.40</td>\n",
       "    </tr>\n",
       "    <tr>\n",
       "      <th>Fare</th>\n",
       "      <td>17.99</td>\n",
       "      <td>12.51</td>\n",
       "      <td>36.71</td>\n",
       "      <td>88.65</td>\n",
       "    </tr>\n",
       "  </tbody>\n",
       "</table>\n",
       "</div>"
      ],
      "text/plain": [
       "cluster      0     1     2     3\n",
       "Survived  1.00  0.00  0.10  0.67\n",
       "Pclass    2.47  2.70  2.90  1.02\n",
       "Age      22.63 29.92 16.25 39.28\n",
       "SibSp     0.40  0.24  2.90  0.46\n",
       "Parch     0.55  0.11  2.31  0.40\n",
       "Fare     17.99 12.51 36.71 88.65"
      ]
     },
     "execution_count": 142,
     "metadata": {},
     "output_type": "execute_result"
    }
   ],
   "source": [
    "df['cluster'] = labels\n",
    "df.groupby(['cluster']).mean().T"
   ]
  },
  {
   "cell_type": "markdown",
   "metadata": {},
   "source": [
    "## Выводы"
   ]
  },
  {
   "cell_type": "markdown",
   "metadata": {},
   "source": [
    "* Больше вснго выживших в 0 кластере, средний возраст 22,6 лет, 0.4 и 0.5 количество родственников первого-второго порядка в среднем, цена билета ожна из самых маленьких.\n",
    "* На втором месте по выжившим 1 класс и самые дорогие билеты(думал тут выживших наибольшее количество), средний возраст 1 класса ожидаемо около 40\n",
    "* 1 и 2 кластер можно объединить, низкая выживаемость, ближе к 3 классу бидеты, дети и их родители..."
   ]
  },
  {
   "cell_type": "code",
   "execution_count": null,
   "metadata": {},
   "outputs": [],
   "source": []
  }
 ],
 "metadata": {
  "ExecuteTimeLog": [
   {
    "duration": 1533,
    "start_time": "2022-06-15T11:49:15.182Z"
   },
   {
    "duration": 196,
    "start_time": "2022-06-15T11:51:24.982Z"
   },
   {
    "duration": 31,
    "start_time": "2022-06-15T12:06:45.952Z"
   },
   {
    "duration": 98,
    "start_time": "2022-06-15T12:06:51.591Z"
   },
   {
    "duration": 5,
    "start_time": "2022-06-15T12:29:28.583Z"
   },
   {
    "duration": 4,
    "start_time": "2022-06-15T12:32:36.208Z"
   },
   {
    "duration": 88,
    "start_time": "2022-06-15T13:30:54.620Z"
   },
   {
    "duration": 623,
    "start_time": "2022-06-15T13:33:37.398Z"
   },
   {
    "duration": 390,
    "start_time": "2022-06-15T13:34:22.002Z"
   },
   {
    "duration": 4,
    "start_time": "2022-06-15T13:34:25.491Z"
   },
   {
    "duration": 115,
    "start_time": "2022-06-15T13:34:25.497Z"
   },
   {
    "duration": 5,
    "start_time": "2022-06-15T13:34:25.614Z"
   },
   {
    "duration": 11,
    "start_time": "2022-06-15T13:34:25.620Z"
   },
   {
    "duration": 9,
    "start_time": "2022-06-15T13:34:25.632Z"
   },
   {
    "duration": 3,
    "start_time": "2022-06-15T13:38:29.396Z"
   },
   {
    "duration": 3,
    "start_time": "2022-06-15T13:38:39.352Z"
   },
   {
    "duration": 5,
    "start_time": "2022-06-15T13:39:04.698Z"
   },
   {
    "duration": 71,
    "start_time": "2022-06-15T13:56:40.372Z"
   },
   {
    "duration": 15,
    "start_time": "2022-06-15T13:57:02.495Z"
   },
   {
    "duration": 12,
    "start_time": "2022-06-15T14:33:41.166Z"
   },
   {
    "duration": 3059,
    "start_time": "2022-06-15T14:46:21.906Z"
   },
   {
    "duration": 2738,
    "start_time": "2022-06-15T14:46:50.701Z"
   },
   {
    "duration": 28,
    "start_time": "2022-06-15T14:51:00.486Z"
   },
   {
    "duration": 2516,
    "start_time": "2022-06-15T14:51:08.297Z"
   },
   {
    "duration": 2528,
    "start_time": "2022-06-15T14:52:14.726Z"
   },
   {
    "duration": 2425,
    "start_time": "2022-06-15T14:52:39.823Z"
   },
   {
    "duration": 65,
    "start_time": "2022-06-15T15:06:58.424Z"
   },
   {
    "duration": 33,
    "start_time": "2022-06-15T15:08:01.347Z"
   },
   {
    "duration": 40,
    "start_time": "2022-06-15T15:08:34.216Z"
   },
   {
    "duration": 2520,
    "start_time": "2022-06-15T15:10:16.164Z"
   },
   {
    "duration": 2431,
    "start_time": "2022-06-15T15:10:46.732Z"
   },
   {
    "duration": 2650,
    "start_time": "2022-06-15T15:25:16.954Z"
   },
   {
    "duration": 2649,
    "start_time": "2022-06-15T15:27:46.740Z"
   },
   {
    "duration": 1455,
    "start_time": "2022-06-15T15:32:52.932Z"
   },
   {
    "duration": 1615,
    "start_time": "2022-06-15T15:33:03.983Z"
   },
   {
    "duration": 1534,
    "start_time": "2022-06-15T15:33:30.486Z"
   },
   {
    "duration": 1435,
    "start_time": "2022-06-15T15:33:49.662Z"
   },
   {
    "duration": 1412,
    "start_time": "2022-06-15T15:34:03.941Z"
   },
   {
    "duration": 1522,
    "start_time": "2022-06-15T15:34:15.501Z"
   },
   {
    "duration": 1375,
    "start_time": "2022-06-15T15:34:37.365Z"
   },
   {
    "duration": 4,
    "start_time": "2022-06-15T15:56:47.948Z"
   },
   {
    "duration": 4,
    "start_time": "2022-06-15T16:35:14.085Z"
   },
   {
    "duration": 12,
    "start_time": "2022-06-15T16:59:58.364Z"
   },
   {
    "duration": 12,
    "start_time": "2022-06-15T17:02:16.183Z"
   },
   {
    "duration": 6,
    "start_time": "2022-06-15T17:02:24.511Z"
   },
   {
    "duration": 96,
    "start_time": "2022-06-15T17:02:24.520Z"
   },
   {
    "duration": 5,
    "start_time": "2022-06-15T17:02:24.618Z"
   },
   {
    "duration": 10,
    "start_time": "2022-06-15T17:02:24.624Z"
   },
   {
    "duration": 8,
    "start_time": "2022-06-15T17:02:24.635Z"
   },
   {
    "duration": 17,
    "start_time": "2022-06-15T17:02:24.644Z"
   },
   {
    "duration": 2393,
    "start_time": "2022-06-15T17:02:24.662Z"
   },
   {
    "duration": 1451,
    "start_time": "2022-06-15T17:02:27.057Z"
   },
   {
    "duration": 4,
    "start_time": "2022-06-15T17:02:28.509Z"
   },
   {
    "duration": 5,
    "start_time": "2022-06-15T17:02:28.524Z"
   },
   {
    "duration": 9,
    "start_time": "2022-06-15T17:02:28.531Z"
   },
   {
    "duration": 734,
    "start_time": "2022-06-15T17:02:28.541Z"
   },
   {
    "duration": 566,
    "start_time": "2022-06-15T17:07:37.176Z"
   },
   {
    "duration": 6,
    "start_time": "2022-06-15T17:09:00.504Z"
   },
   {
    "duration": 10,
    "start_time": "2022-06-15T17:09:03.099Z"
   },
   {
    "duration": 614,
    "start_time": "2022-06-15T17:09:04.935Z"
   },
   {
    "duration": 634,
    "start_time": "2022-06-15T17:10:59.638Z"
   },
   {
    "duration": 717,
    "start_time": "2022-06-15T17:13:20.540Z"
   },
   {
    "duration": 40,
    "start_time": "2022-06-16T12:14:43.905Z"
   },
   {
    "duration": 1334,
    "start_time": "2022-06-16T12:14:48.437Z"
   },
   {
    "duration": 193,
    "start_time": "2022-06-16T12:14:49.773Z"
   },
   {
    "duration": 5,
    "start_time": "2022-06-16T12:14:49.967Z"
   },
   {
    "duration": 8,
    "start_time": "2022-06-16T12:14:49.991Z"
   },
   {
    "duration": 19,
    "start_time": "2022-06-16T12:14:50.001Z"
   },
   {
    "duration": 15,
    "start_time": "2022-06-16T12:14:50.021Z"
   },
   {
    "duration": 2136,
    "start_time": "2022-06-16T12:14:50.037Z"
   },
   {
    "duration": 1431,
    "start_time": "2022-06-16T12:14:52.174Z"
   },
   {
    "duration": 4,
    "start_time": "2022-06-16T12:14:53.606Z"
   },
   {
    "duration": 10,
    "start_time": "2022-06-16T12:14:53.611Z"
   },
   {
    "duration": 9,
    "start_time": "2022-06-16T12:14:53.622Z"
   },
   {
    "duration": 544,
    "start_time": "2022-06-16T12:14:53.632Z"
   },
   {
    "duration": 6,
    "start_time": "2022-06-16T12:14:54.178Z"
   },
   {
    "duration": 67,
    "start_time": "2022-06-16T12:17:51.721Z"
   },
   {
    "duration": 6,
    "start_time": "2022-06-16T12:17:55.690Z"
   },
   {
    "duration": 94584,
    "start_time": "2022-06-16T12:17:58.105Z"
   },
   {
    "duration": 96334,
    "start_time": "2022-06-16T12:22:22.446Z"
   },
   {
    "duration": 1077,
    "start_time": "2022-06-16T12:30:03.022Z"
   },
   {
    "duration": 18,
    "start_time": "2022-06-16T12:32:11.054Z"
   },
   {
    "duration": 5,
    "start_time": "2022-06-16T12:32:33.922Z"
   },
   {
    "duration": 18,
    "start_time": "2022-06-16T12:36:56.867Z"
   },
   {
    "duration": 11,
    "start_time": "2022-06-16T12:51:13.911Z"
   },
   {
    "duration": 478,
    "start_time": "2022-06-16T12:54:19.742Z"
   },
   {
    "duration": 5,
    "start_time": "2022-06-16T12:54:29.854Z"
   },
   {
    "duration": 1406,
    "start_time": "2022-06-16T12:54:46.694Z"
   },
   {
    "duration": 6,
    "start_time": "2022-06-16T12:54:55.901Z"
   },
   {
    "duration": 12,
    "start_time": "2022-06-16T12:55:13.749Z"
   },
   {
    "duration": 2127,
    "start_time": "2022-06-16T19:23:57.121Z"
   },
   {
    "duration": 380,
    "start_time": "2022-06-16T19:23:59.251Z"
   },
   {
    "duration": 8,
    "start_time": "2022-06-16T19:23:59.634Z"
   },
   {
    "duration": 20,
    "start_time": "2022-06-16T19:23:59.645Z"
   },
   {
    "duration": 29,
    "start_time": "2022-06-16T19:23:59.667Z"
   },
   {
    "duration": 70,
    "start_time": "2022-06-16T19:23:59.698Z"
   },
   {
    "duration": 3253,
    "start_time": "2022-06-16T19:23:59.770Z"
   },
   {
    "duration": 1910,
    "start_time": "2022-06-16T19:24:03.028Z"
   },
   {
    "duration": 5,
    "start_time": "2022-06-16T19:24:04.939Z"
   },
   {
    "duration": 11,
    "start_time": "2022-06-16T19:24:04.947Z"
   },
   {
    "duration": 15,
    "start_time": "2022-06-16T19:24:04.960Z"
   },
   {
    "duration": 1403,
    "start_time": "2022-06-16T19:24:04.976Z"
   },
   {
    "duration": 18,
    "start_time": "2022-06-16T19:24:06.384Z"
   },
   {
    "duration": 128840,
    "start_time": "2022-06-16T19:24:06.405Z"
   },
   {
    "duration": 1278,
    "start_time": "2022-06-16T19:26:15.247Z"
   },
   {
    "duration": 11,
    "start_time": "2022-06-16T19:26:16.581Z"
   },
   {
    "duration": 203,
    "start_time": "2022-06-16T19:26:16.598Z"
   },
   {
    "duration": 24,
    "start_time": "2022-06-16T19:28:05.499Z"
   },
   {
    "duration": 25,
    "start_time": "2022-06-16T19:50:31.134Z"
   },
   {
    "duration": 374476,
    "start_time": "2022-06-16T19:50:55.509Z"
   },
   {
    "duration": 4657,
    "start_time": "2022-06-16T20:00:25.163Z"
   },
   {
    "duration": 15085,
    "start_time": "2022-06-16T20:04:59.849Z"
   },
   {
    "duration": 3429,
    "start_time": "2022-06-16T20:12:34.078Z"
   },
   {
    "duration": 4145,
    "start_time": "2022-06-16T20:13:00.435Z"
   },
   {
    "duration": 3967,
    "start_time": "2022-06-16T20:13:55.130Z"
   },
   {
    "duration": 4322,
    "start_time": "2022-06-16T20:23:32.373Z"
   },
   {
    "duration": 3860,
    "start_time": "2022-06-16T20:26:48.790Z"
   },
   {
    "duration": 3127,
    "start_time": "2022-06-16T20:27:54.971Z"
   },
   {
    "duration": 2909,
    "start_time": "2022-06-16T20:28:06.494Z"
   },
   {
    "duration": 3765,
    "start_time": "2022-06-16T20:29:39.096Z"
   },
   {
    "duration": 1513,
    "start_time": "2022-06-17T19:10:28.420Z"
   },
   {
    "duration": 170,
    "start_time": "2022-06-17T19:10:29.935Z"
   },
   {
    "duration": 4,
    "start_time": "2022-06-17T19:10:30.107Z"
   },
   {
    "duration": 24,
    "start_time": "2022-06-17T19:10:30.113Z"
   },
   {
    "duration": 14,
    "start_time": "2022-06-17T19:10:30.138Z"
   },
   {
    "duration": 31,
    "start_time": "2022-06-17T19:10:30.154Z"
   },
   {
    "duration": 2456,
    "start_time": "2022-06-17T19:10:30.187Z"
   },
   {
    "duration": 1550,
    "start_time": "2022-06-17T19:10:32.645Z"
   },
   {
    "duration": 4,
    "start_time": "2022-06-17T19:10:34.196Z"
   },
   {
    "duration": 8,
    "start_time": "2022-06-17T19:10:34.202Z"
   },
   {
    "duration": 12,
    "start_time": "2022-06-17T19:10:34.211Z"
   },
   {
    "duration": 621,
    "start_time": "2022-06-17T19:10:34.224Z"
   },
   {
    "duration": 8,
    "start_time": "2022-06-17T19:10:34.847Z"
   },
   {
    "duration": 108009,
    "start_time": "2022-06-17T19:10:34.856Z"
   },
   {
    "duration": 1272,
    "start_time": "2022-06-17T19:12:22.867Z"
   },
   {
    "duration": 87,
    "start_time": "2022-06-17T19:12:24.141Z"
   },
   {
    "duration": 15,
    "start_time": "2022-06-17T19:12:24.230Z"
   },
   {
    "duration": 4080,
    "start_time": "2022-06-17T19:12:24.247Z"
   },
   {
    "duration": 57,
    "start_time": "2022-06-17T21:18:27.189Z"
   },
   {
    "duration": 1454,
    "start_time": "2022-06-17T21:18:32.982Z"
   },
   {
    "duration": 171,
    "start_time": "2022-06-17T21:18:34.439Z"
   },
   {
    "duration": 4,
    "start_time": "2022-06-17T21:18:34.612Z"
   },
   {
    "duration": 10,
    "start_time": "2022-06-17T21:18:34.619Z"
   },
   {
    "duration": 9,
    "start_time": "2022-06-17T21:18:34.630Z"
   },
   {
    "duration": 18,
    "start_time": "2022-06-17T21:18:34.658Z"
   },
   {
    "duration": 2547,
    "start_time": "2022-06-17T21:18:34.677Z"
   },
   {
    "duration": 1733,
    "start_time": "2022-06-17T21:18:37.226Z"
   },
   {
    "duration": 11,
    "start_time": "2022-06-17T21:18:38.961Z"
   },
   {
    "duration": 8,
    "start_time": "2022-06-17T21:18:38.974Z"
   },
   {
    "duration": 7,
    "start_time": "2022-06-17T21:18:38.984Z"
   },
   {
    "duration": 11,
    "start_time": "2022-06-17T21:18:38.993Z"
   },
   {
    "duration": 569,
    "start_time": "2022-06-17T21:18:39.006Z"
   },
   {
    "duration": 8,
    "start_time": "2022-06-17T21:18:39.576Z"
   },
   {
    "duration": 108197,
    "start_time": "2022-06-17T21:18:39.586Z"
   },
   {
    "duration": 1676,
    "start_time": "2022-06-17T21:20:27.784Z"
   },
   {
    "duration": 6,
    "start_time": "2022-06-17T21:20:29.461Z"
   },
   {
    "duration": 16,
    "start_time": "2022-06-17T21:20:29.469Z"
   },
   {
    "duration": 3406,
    "start_time": "2022-06-17T21:20:29.487Z"
   },
   {
    "duration": 44,
    "start_time": "2022-12-11T11:14:57.135Z"
   },
   {
    "duration": 1586,
    "start_time": "2022-12-11T11:15:07.637Z"
   },
   {
    "duration": 84,
    "start_time": "2022-12-11T11:15:13.037Z"
   },
   {
    "duration": 136,
    "start_time": "2022-12-11T11:15:25.860Z"
   },
   {
    "duration": 81,
    "start_time": "2022-12-11T14:56:14.342Z"
   },
   {
    "duration": 39,
    "start_time": "2022-12-11T14:57:03.111Z"
   },
   {
    "duration": 79,
    "start_time": "2022-12-11T14:57:42.070Z"
   },
   {
    "duration": 44,
    "start_time": "2022-12-11T14:57:46.445Z"
   },
   {
    "duration": 4,
    "start_time": "2022-12-11T15:19:03.832Z"
   },
   {
    "duration": 17,
    "start_time": "2022-12-11T15:19:28.399Z"
   },
   {
    "duration": 12,
    "start_time": "2022-12-11T15:19:32.979Z"
   },
   {
    "duration": 0,
    "start_time": "2022-12-11T15:19:32.992Z"
   },
   {
    "duration": 0,
    "start_time": "2022-12-11T15:19:32.993Z"
   },
   {
    "duration": 0,
    "start_time": "2022-12-11T15:19:32.995Z"
   },
   {
    "duration": 16,
    "start_time": "2022-12-11T15:19:32.997Z"
   },
   {
    "duration": 0,
    "start_time": "2022-12-11T15:19:33.015Z"
   },
   {
    "duration": 0,
    "start_time": "2022-12-11T15:19:33.017Z"
   },
   {
    "duration": 0,
    "start_time": "2022-12-11T15:19:33.018Z"
   },
   {
    "duration": 0,
    "start_time": "2022-12-11T15:19:33.019Z"
   },
   {
    "duration": 0,
    "start_time": "2022-12-11T15:19:33.020Z"
   },
   {
    "duration": 0,
    "start_time": "2022-12-11T15:19:33.021Z"
   },
   {
    "duration": 0,
    "start_time": "2022-12-11T15:19:33.022Z"
   },
   {
    "duration": 0,
    "start_time": "2022-12-11T15:19:33.023Z"
   },
   {
    "duration": 0,
    "start_time": "2022-12-11T15:19:33.024Z"
   },
   {
    "duration": 0,
    "start_time": "2022-12-11T15:19:33.025Z"
   },
   {
    "duration": 0,
    "start_time": "2022-12-11T15:19:33.027Z"
   },
   {
    "duration": 49,
    "start_time": "2022-12-11T15:21:12.841Z"
   },
   {
    "duration": 5,
    "start_time": "2022-12-11T15:21:48.503Z"
   },
   {
    "duration": 5,
    "start_time": "2022-12-11T15:22:00.930Z"
   },
   {
    "duration": 121,
    "start_time": "2022-12-11T15:22:00.937Z"
   },
   {
    "duration": 68,
    "start_time": "2022-12-11T15:22:01.060Z"
   },
   {
    "duration": 62,
    "start_time": "2022-12-11T15:22:01.130Z"
   },
   {
    "duration": 4,
    "start_time": "2022-12-11T15:22:01.197Z"
   },
   {
    "duration": 553,
    "start_time": "2022-12-11T15:22:01.203Z"
   },
   {
    "duration": 14,
    "start_time": "2022-12-11T15:22:01.757Z"
   },
   {
    "duration": 0,
    "start_time": "2022-12-11T15:22:01.773Z"
   },
   {
    "duration": 0,
    "start_time": "2022-12-11T15:22:01.774Z"
   },
   {
    "duration": 0,
    "start_time": "2022-12-11T15:22:01.776Z"
   },
   {
    "duration": 0,
    "start_time": "2022-12-11T15:22:01.777Z"
   },
   {
    "duration": 0,
    "start_time": "2022-12-11T15:22:01.797Z"
   },
   {
    "duration": 1,
    "start_time": "2022-12-11T15:22:01.798Z"
   },
   {
    "duration": 0,
    "start_time": "2022-12-11T15:22:01.799Z"
   },
   {
    "duration": 0,
    "start_time": "2022-12-11T15:22:01.801Z"
   },
   {
    "duration": 0,
    "start_time": "2022-12-11T15:22:01.803Z"
   },
   {
    "duration": 4,
    "start_time": "2022-12-11T15:23:20.294Z"
   },
   {
    "duration": 4,
    "start_time": "2022-12-11T15:23:31.990Z"
   },
   {
    "duration": 3,
    "start_time": "2022-12-11T15:23:47.925Z"
   },
   {
    "duration": 6,
    "start_time": "2022-12-11T15:23:57.597Z"
   },
   {
    "duration": 7,
    "start_time": "2022-12-11T15:25:10.310Z"
   },
   {
    "duration": 5,
    "start_time": "2022-12-11T15:25:16.116Z"
   },
   {
    "duration": 9,
    "start_time": "2022-12-11T15:25:52.234Z"
   },
   {
    "duration": 3,
    "start_time": "2022-12-11T15:27:42.489Z"
   },
   {
    "duration": 1383,
    "start_time": "2022-12-11T15:27:55.144Z"
   },
   {
    "duration": 4,
    "start_time": "2022-12-11T15:28:13.852Z"
   },
   {
    "duration": 5,
    "start_time": "2022-12-11T15:28:26.896Z"
   },
   {
    "duration": 8,
    "start_time": "2022-12-11T15:28:41.600Z"
   },
   {
    "duration": 10,
    "start_time": "2022-12-11T15:28:59.904Z"
   },
   {
    "duration": 9,
    "start_time": "2022-12-11T15:30:07.223Z"
   },
   {
    "duration": 57,
    "start_time": "2022-12-11T15:30:31.424Z"
   },
   {
    "duration": 4,
    "start_time": "2022-12-11T15:30:48.279Z"
   },
   {
    "duration": 5,
    "start_time": "2022-12-11T15:30:54.190Z"
   },
   {
    "duration": 8,
    "start_time": "2022-12-11T15:31:16.781Z"
   },
   {
    "duration": 2,
    "start_time": "2022-12-11T15:31:37.902Z"
   },
   {
    "duration": 1260,
    "start_time": "2022-12-11T15:31:48.581Z"
   },
   {
    "duration": 5,
    "start_time": "2022-12-11T15:32:13.957Z"
   },
   {
    "duration": 6,
    "start_time": "2022-12-11T15:32:33.021Z"
   },
   {
    "duration": 8,
    "start_time": "2022-12-11T15:33:52.372Z"
   },
   {
    "duration": 6,
    "start_time": "2022-12-11T15:34:23.594Z"
   },
   {
    "duration": 140,
    "start_time": "2022-12-11T15:34:34.259Z"
   },
   {
    "duration": 105,
    "start_time": "2022-12-11T15:34:50.179Z"
   },
   {
    "duration": 4,
    "start_time": "2022-12-11T15:51:33.348Z"
   },
   {
    "duration": 95,
    "start_time": "2022-12-11T15:51:33.355Z"
   },
   {
    "duration": 61,
    "start_time": "2022-12-11T15:51:33.451Z"
   },
   {
    "duration": 47,
    "start_time": "2022-12-11T15:51:33.513Z"
   },
   {
    "duration": 4,
    "start_time": "2022-12-11T15:51:33.562Z"
   },
   {
    "duration": 13,
    "start_time": "2022-12-11T15:51:33.567Z"
   },
   {
    "duration": 0,
    "start_time": "2022-12-11T15:51:33.582Z"
   },
   {
    "duration": 0,
    "start_time": "2022-12-11T15:51:33.583Z"
   },
   {
    "duration": 0,
    "start_time": "2022-12-11T15:51:33.596Z"
   },
   {
    "duration": 0,
    "start_time": "2022-12-11T15:51:33.598Z"
   },
   {
    "duration": 0,
    "start_time": "2022-12-11T15:51:33.599Z"
   },
   {
    "duration": 0,
    "start_time": "2022-12-11T15:51:33.600Z"
   },
   {
    "duration": 0,
    "start_time": "2022-12-11T15:51:33.601Z"
   },
   {
    "duration": 0,
    "start_time": "2022-12-11T15:51:33.602Z"
   },
   {
    "duration": 0,
    "start_time": "2022-12-11T15:51:33.603Z"
   },
   {
    "duration": 0,
    "start_time": "2022-12-11T15:51:33.604Z"
   },
   {
    "duration": 0,
    "start_time": "2022-12-11T15:51:33.605Z"
   },
   {
    "duration": 0,
    "start_time": "2022-12-11T15:51:33.607Z"
   },
   {
    "duration": 0,
    "start_time": "2022-12-11T15:51:33.608Z"
   },
   {
    "duration": 0,
    "start_time": "2022-12-11T15:51:33.609Z"
   },
   {
    "duration": 0,
    "start_time": "2022-12-11T15:51:33.610Z"
   },
   {
    "duration": 0,
    "start_time": "2022-12-11T15:51:33.612Z"
   },
   {
    "duration": 0,
    "start_time": "2022-12-11T15:51:33.613Z"
   },
   {
    "duration": 0,
    "start_time": "2022-12-11T15:51:33.614Z"
   },
   {
    "duration": 0,
    "start_time": "2022-12-11T15:51:33.615Z"
   },
   {
    "duration": 0,
    "start_time": "2022-12-11T15:51:33.616Z"
   },
   {
    "duration": 18,
    "start_time": "2022-12-11T15:52:39.556Z"
   },
   {
    "duration": 26,
    "start_time": "2022-12-11T15:52:47.541Z"
   },
   {
    "duration": 378,
    "start_time": "2022-12-11T15:52:56.474Z"
   },
   {
    "duration": 4,
    "start_time": "2022-12-11T16:02:31.536Z"
   },
   {
    "duration": 777,
    "start_time": "2022-12-11T16:41:43.904Z"
   },
   {
    "duration": 13,
    "start_time": "2022-12-11T16:41:49.354Z"
   },
   {
    "duration": 5,
    "start_time": "2022-12-11T16:41:53.479Z"
   },
   {
    "duration": 5,
    "start_time": "2022-12-11T16:41:58.488Z"
   },
   {
    "duration": 1571,
    "start_time": "2022-12-11T16:42:00.967Z"
   },
   {
    "duration": 7,
    "start_time": "2022-12-11T16:42:31.264Z"
   },
   {
    "duration": 140,
    "start_time": "2022-12-11T16:42:31.273Z"
   },
   {
    "duration": 90,
    "start_time": "2022-12-11T16:42:31.415Z"
   },
   {
    "duration": 78,
    "start_time": "2022-12-11T16:42:31.507Z"
   },
   {
    "duration": 5,
    "start_time": "2022-12-11T16:42:31.588Z"
   },
   {
    "duration": 11,
    "start_time": "2022-12-11T16:42:31.594Z"
   },
   {
    "duration": 9,
    "start_time": "2022-12-11T16:42:31.607Z"
   },
   {
    "duration": 3102,
    "start_time": "2022-12-11T16:42:31.618Z"
   },
   {
    "duration": 5,
    "start_time": "2022-12-11T16:42:34.722Z"
   },
   {
    "duration": 4,
    "start_time": "2022-12-11T16:42:34.730Z"
   },
   {
    "duration": 5,
    "start_time": "2022-12-11T16:42:34.735Z"
   },
   {
    "duration": 5,
    "start_time": "2022-12-11T16:42:34.741Z"
   },
   {
    "duration": 7,
    "start_time": "2022-12-11T16:42:34.747Z"
   },
   {
    "duration": 9,
    "start_time": "2022-12-11T16:42:34.755Z"
   },
   {
    "duration": 4,
    "start_time": "2022-12-11T16:42:34.795Z"
   },
   {
    "duration": 1180,
    "start_time": "2022-12-11T16:42:34.801Z"
   },
   {
    "duration": 14,
    "start_time": "2022-12-11T16:42:35.982Z"
   },
   {
    "duration": 5,
    "start_time": "2022-12-11T16:42:35.998Z"
   },
   {
    "duration": 8,
    "start_time": "2022-12-11T16:42:36.005Z"
   },
   {
    "duration": 4,
    "start_time": "2022-12-11T16:42:36.015Z"
   },
   {
    "duration": 11,
    "start_time": "2022-12-11T16:42:36.020Z"
   },
   {
    "duration": 15,
    "start_time": "2022-12-11T16:42:36.033Z"
   },
   {
    "duration": 1175,
    "start_time": "2022-12-11T16:42:36.050Z"
   },
   {
    "duration": 4,
    "start_time": "2022-12-11T16:42:37.227Z"
   },
   {
    "duration": 7,
    "start_time": "2022-12-11T16:42:37.233Z"
   },
   {
    "duration": 12,
    "start_time": "2022-12-11T16:42:37.241Z"
   },
   {
    "duration": 7,
    "start_time": "2022-12-11T16:42:37.254Z"
   },
   {
    "duration": 178,
    "start_time": "2022-12-11T16:42:37.264Z"
   },
   {
    "duration": 117,
    "start_time": "2022-12-11T16:42:37.444Z"
   },
   {
    "duration": 5,
    "start_time": "2022-12-11T16:50:42.079Z"
   },
   {
    "duration": 9,
    "start_time": "2022-12-11T16:50:59.254Z"
   },
   {
    "duration": 6,
    "start_time": "2022-12-11T16:52:15.807Z"
   },
   {
    "duration": 5,
    "start_time": "2022-12-11T16:52:26.455Z"
   },
   {
    "duration": 21,
    "start_time": "2022-12-11T16:52:36.951Z"
   },
   {
    "duration": 8,
    "start_time": "2022-12-11T16:52:53.295Z"
   },
   {
    "duration": 106,
    "start_time": "2022-12-11T16:52:53.310Z"
   },
   {
    "duration": 64,
    "start_time": "2022-12-11T16:52:53.417Z"
   },
   {
    "duration": 58,
    "start_time": "2022-12-11T16:52:53.483Z"
   },
   {
    "duration": 5,
    "start_time": "2022-12-11T16:52:53.542Z"
   },
   {
    "duration": 10,
    "start_time": "2022-12-11T16:52:53.549Z"
   },
   {
    "duration": 7,
    "start_time": "2022-12-11T16:52:53.560Z"
   },
   {
    "duration": 20,
    "start_time": "2022-12-11T16:52:53.569Z"
   },
   {
    "duration": 0,
    "start_time": "2022-12-11T16:52:53.600Z"
   },
   {
    "duration": 0,
    "start_time": "2022-12-11T16:52:53.601Z"
   },
   {
    "duration": 0,
    "start_time": "2022-12-11T16:52:53.604Z"
   },
   {
    "duration": 0,
    "start_time": "2022-12-11T16:52:53.605Z"
   },
   {
    "duration": 0,
    "start_time": "2022-12-11T16:52:53.606Z"
   },
   {
    "duration": 0,
    "start_time": "2022-12-11T16:52:53.607Z"
   },
   {
    "duration": 0,
    "start_time": "2022-12-11T16:52:53.608Z"
   },
   {
    "duration": 0,
    "start_time": "2022-12-11T16:52:53.609Z"
   },
   {
    "duration": 0,
    "start_time": "2022-12-11T16:52:53.609Z"
   },
   {
    "duration": 1,
    "start_time": "2022-12-11T16:52:53.610Z"
   },
   {
    "duration": 0,
    "start_time": "2022-12-11T16:52:53.611Z"
   },
   {
    "duration": 0,
    "start_time": "2022-12-11T16:52:53.612Z"
   },
   {
    "duration": 0,
    "start_time": "2022-12-11T16:52:53.614Z"
   },
   {
    "duration": 0,
    "start_time": "2022-12-11T16:52:53.615Z"
   },
   {
    "duration": 0,
    "start_time": "2022-12-11T16:52:53.616Z"
   },
   {
    "duration": 0,
    "start_time": "2022-12-11T16:52:53.617Z"
   },
   {
    "duration": 0,
    "start_time": "2022-12-11T16:52:53.618Z"
   },
   {
    "duration": 0,
    "start_time": "2022-12-11T16:52:53.619Z"
   },
   {
    "duration": 0,
    "start_time": "2022-12-11T16:52:53.620Z"
   },
   {
    "duration": 0,
    "start_time": "2022-12-11T16:52:53.621Z"
   },
   {
    "duration": 0,
    "start_time": "2022-12-11T16:52:53.622Z"
   },
   {
    "duration": 0,
    "start_time": "2022-12-11T16:52:53.623Z"
   },
   {
    "duration": 0,
    "start_time": "2022-12-11T16:52:53.624Z"
   },
   {
    "duration": 0,
    "start_time": "2022-12-11T16:52:53.625Z"
   },
   {
    "duration": 0,
    "start_time": "2022-12-11T16:52:53.626Z"
   },
   {
    "duration": 0,
    "start_time": "2022-12-11T16:52:53.627Z"
   },
   {
    "duration": 7042,
    "start_time": "2022-12-11T16:54:37.515Z"
   },
   {
    "duration": 35,
    "start_time": "2022-12-11T16:54:46.493Z"
   },
   {
    "duration": 18,
    "start_time": "2022-12-11T16:54:55.572Z"
   },
   {
    "duration": 13,
    "start_time": "2022-12-11T16:55:14.800Z"
   },
   {
    "duration": 97,
    "start_time": "2022-12-11T16:55:14.816Z"
   },
   {
    "duration": 66,
    "start_time": "2022-12-11T16:55:14.918Z"
   },
   {
    "duration": 67,
    "start_time": "2022-12-11T16:55:14.987Z"
   },
   {
    "duration": 4,
    "start_time": "2022-12-11T16:55:15.056Z"
   },
   {
    "duration": 11,
    "start_time": "2022-12-11T16:55:15.062Z"
   },
   {
    "duration": 14454,
    "start_time": "2022-12-11T16:55:15.074Z"
   },
   {
    "duration": 8,
    "start_time": "2022-12-11T16:55:29.530Z"
   },
   {
    "duration": 30,
    "start_time": "2022-12-11T16:55:29.540Z"
   },
   {
    "duration": 0,
    "start_time": "2022-12-11T16:55:29.573Z"
   },
   {
    "duration": 0,
    "start_time": "2022-12-11T16:55:29.573Z"
   },
   {
    "duration": 0,
    "start_time": "2022-12-11T16:55:29.574Z"
   },
   {
    "duration": 0,
    "start_time": "2022-12-11T16:55:29.576Z"
   },
   {
    "duration": 0,
    "start_time": "2022-12-11T16:55:29.577Z"
   },
   {
    "duration": 0,
    "start_time": "2022-12-11T16:55:29.601Z"
   },
   {
    "duration": 0,
    "start_time": "2022-12-11T16:55:29.602Z"
   },
   {
    "duration": 0,
    "start_time": "2022-12-11T16:55:29.607Z"
   },
   {
    "duration": 0,
    "start_time": "2022-12-11T16:55:29.608Z"
   },
   {
    "duration": 0,
    "start_time": "2022-12-11T16:55:29.609Z"
   },
   {
    "duration": 0,
    "start_time": "2022-12-11T16:55:29.609Z"
   },
   {
    "duration": 0,
    "start_time": "2022-12-11T16:55:29.614Z"
   },
   {
    "duration": 0,
    "start_time": "2022-12-11T16:55:29.615Z"
   },
   {
    "duration": 0,
    "start_time": "2022-12-11T16:55:29.615Z"
   },
   {
    "duration": 0,
    "start_time": "2022-12-11T16:55:29.616Z"
   },
   {
    "duration": 0,
    "start_time": "2022-12-11T16:55:29.617Z"
   },
   {
    "duration": 0,
    "start_time": "2022-12-11T16:55:29.617Z"
   },
   {
    "duration": 0,
    "start_time": "2022-12-11T16:55:29.618Z"
   },
   {
    "duration": 0,
    "start_time": "2022-12-11T16:55:29.623Z"
   },
   {
    "duration": 0,
    "start_time": "2022-12-11T16:55:29.623Z"
   },
   {
    "duration": 0,
    "start_time": "2022-12-11T16:55:29.624Z"
   },
   {
    "duration": 0,
    "start_time": "2022-12-11T16:55:29.626Z"
   },
   {
    "duration": 0,
    "start_time": "2022-12-11T16:55:29.628Z"
   },
   {
    "duration": 0,
    "start_time": "2022-12-11T16:55:29.629Z"
   },
   {
    "duration": 0,
    "start_time": "2022-12-11T16:55:29.630Z"
   },
   {
    "duration": 0,
    "start_time": "2022-12-11T16:55:29.631Z"
   },
   {
    "duration": 4,
    "start_time": "2022-12-11T16:58:56.880Z"
   },
   {
    "duration": 3,
    "start_time": "2022-12-11T16:58:59.555Z"
   },
   {
    "duration": 26,
    "start_time": "2022-12-11T16:59:48.712Z"
   },
   {
    "duration": 1792,
    "start_time": "2022-12-11T17:01:34.561Z"
   },
   {
    "duration": 159,
    "start_time": "2022-12-11T17:01:36.355Z"
   },
   {
    "duration": 92,
    "start_time": "2022-12-11T17:01:36.516Z"
   },
   {
    "duration": 42,
    "start_time": "2022-12-11T17:01:36.610Z"
   },
   {
    "duration": 5,
    "start_time": "2022-12-11T17:01:36.654Z"
   },
   {
    "duration": 14,
    "start_time": "2022-12-11T17:01:36.660Z"
   },
   {
    "duration": 134,
    "start_time": "2022-12-11T17:01:36.676Z"
   },
   {
    "duration": 0,
    "start_time": "2022-12-11T17:01:36.815Z"
   },
   {
    "duration": 0,
    "start_time": "2022-12-11T17:01:36.817Z"
   },
   {
    "duration": 0,
    "start_time": "2022-12-11T17:01:36.818Z"
   },
   {
    "duration": 0,
    "start_time": "2022-12-11T17:01:36.820Z"
   },
   {
    "duration": 0,
    "start_time": "2022-12-11T17:01:36.821Z"
   },
   {
    "duration": 0,
    "start_time": "2022-12-11T17:01:36.822Z"
   },
   {
    "duration": 0,
    "start_time": "2022-12-11T17:01:36.823Z"
   },
   {
    "duration": 0,
    "start_time": "2022-12-11T17:01:36.824Z"
   },
   {
    "duration": 0,
    "start_time": "2022-12-11T17:01:36.824Z"
   },
   {
    "duration": 0,
    "start_time": "2022-12-11T17:01:36.825Z"
   },
   {
    "duration": 0,
    "start_time": "2022-12-11T17:01:36.826Z"
   },
   {
    "duration": 1,
    "start_time": "2022-12-11T17:01:36.827Z"
   },
   {
    "duration": 0,
    "start_time": "2022-12-11T17:01:36.828Z"
   },
   {
    "duration": 0,
    "start_time": "2022-12-11T17:01:36.829Z"
   },
   {
    "duration": 0,
    "start_time": "2022-12-11T17:01:36.830Z"
   },
   {
    "duration": 0,
    "start_time": "2022-12-11T17:01:36.831Z"
   },
   {
    "duration": 0,
    "start_time": "2022-12-11T17:01:36.832Z"
   },
   {
    "duration": 0,
    "start_time": "2022-12-11T17:01:36.832Z"
   },
   {
    "duration": 0,
    "start_time": "2022-12-11T17:01:36.833Z"
   },
   {
    "duration": 0,
    "start_time": "2022-12-11T17:01:36.834Z"
   },
   {
    "duration": 0,
    "start_time": "2022-12-11T17:01:36.835Z"
   },
   {
    "duration": 0,
    "start_time": "2022-12-11T17:01:36.836Z"
   },
   {
    "duration": 0,
    "start_time": "2022-12-11T17:01:36.837Z"
   },
   {
    "duration": 0,
    "start_time": "2022-12-11T17:01:36.838Z"
   },
   {
    "duration": 0,
    "start_time": "2022-12-11T17:01:36.839Z"
   },
   {
    "duration": 0,
    "start_time": "2022-12-11T17:01:36.840Z"
   },
   {
    "duration": 0,
    "start_time": "2022-12-11T17:01:36.841Z"
   },
   {
    "duration": 0,
    "start_time": "2022-12-11T17:01:36.842Z"
   },
   {
    "duration": 0,
    "start_time": "2022-12-11T17:01:36.843Z"
   },
   {
    "duration": 0,
    "start_time": "2022-12-11T17:01:36.844Z"
   },
   {
    "duration": 0,
    "start_time": "2022-12-11T17:01:36.845Z"
   },
   {
    "duration": 29,
    "start_time": "2022-12-11T17:02:16.710Z"
   },
   {
    "duration": 6,
    "start_time": "2022-12-11T17:02:22.447Z"
   },
   {
    "duration": 15,
    "start_time": "2022-12-11T17:02:26.155Z"
   },
   {
    "duration": 282,
    "start_time": "2022-12-11T17:03:16.387Z"
   },
   {
    "duration": 7,
    "start_time": "2022-12-11T17:03:22.517Z"
   },
   {
    "duration": 71,
    "start_time": "2022-12-11T17:03:22.526Z"
   },
   {
    "duration": 65,
    "start_time": "2022-12-11T17:03:22.605Z"
   },
   {
    "duration": 50,
    "start_time": "2022-12-11T17:03:22.672Z"
   },
   {
    "duration": 5,
    "start_time": "2022-12-11T17:03:22.724Z"
   },
   {
    "duration": 12,
    "start_time": "2022-12-11T17:03:22.731Z"
   },
   {
    "duration": 29,
    "start_time": "2022-12-11T17:03:22.745Z"
   },
   {
    "duration": 27,
    "start_time": "2022-12-11T17:03:22.775Z"
   },
   {
    "duration": 6,
    "start_time": "2022-12-11T17:03:22.813Z"
   },
   {
    "duration": 253,
    "start_time": "2022-12-11T17:03:22.821Z"
   },
   {
    "duration": 0,
    "start_time": "2022-12-11T17:03:23.076Z"
   },
   {
    "duration": 0,
    "start_time": "2022-12-11T17:03:23.077Z"
   },
   {
    "duration": 0,
    "start_time": "2022-12-11T17:03:23.078Z"
   },
   {
    "duration": 0,
    "start_time": "2022-12-11T17:03:23.080Z"
   },
   {
    "duration": 0,
    "start_time": "2022-12-11T17:03:23.081Z"
   },
   {
    "duration": 0,
    "start_time": "2022-12-11T17:03:23.083Z"
   },
   {
    "duration": 0,
    "start_time": "2022-12-11T17:03:23.084Z"
   },
   {
    "duration": 0,
    "start_time": "2022-12-11T17:03:23.085Z"
   },
   {
    "duration": 0,
    "start_time": "2022-12-11T17:03:23.087Z"
   },
   {
    "duration": 0,
    "start_time": "2022-12-11T17:03:23.088Z"
   },
   {
    "duration": 0,
    "start_time": "2022-12-11T17:03:23.090Z"
   },
   {
    "duration": 0,
    "start_time": "2022-12-11T17:03:23.091Z"
   },
   {
    "duration": 0,
    "start_time": "2022-12-11T17:03:23.093Z"
   },
   {
    "duration": 0,
    "start_time": "2022-12-11T17:03:23.094Z"
   },
   {
    "duration": 0,
    "start_time": "2022-12-11T17:03:23.095Z"
   },
   {
    "duration": 0,
    "start_time": "2022-12-11T17:03:23.098Z"
   },
   {
    "duration": 0,
    "start_time": "2022-12-11T17:03:23.099Z"
   },
   {
    "duration": 0,
    "start_time": "2022-12-11T17:03:23.100Z"
   },
   {
    "duration": 0,
    "start_time": "2022-12-11T17:03:23.104Z"
   },
   {
    "duration": 0,
    "start_time": "2022-12-11T17:03:23.105Z"
   },
   {
    "duration": 0,
    "start_time": "2022-12-11T17:03:23.106Z"
   },
   {
    "duration": 0,
    "start_time": "2022-12-11T17:03:23.106Z"
   },
   {
    "duration": 0,
    "start_time": "2022-12-11T17:03:23.111Z"
   },
   {
    "duration": 0,
    "start_time": "2022-12-11T17:03:23.112Z"
   },
   {
    "duration": 0,
    "start_time": "2022-12-11T17:03:23.113Z"
   },
   {
    "duration": 0,
    "start_time": "2022-12-11T17:03:23.114Z"
   },
   {
    "duration": 0,
    "start_time": "2022-12-11T17:03:23.115Z"
   },
   {
    "duration": 0,
    "start_time": "2022-12-11T17:03:23.116Z"
   },
   {
    "duration": 5,
    "start_time": "2022-12-11T17:05:04.554Z"
   },
   {
    "duration": 88,
    "start_time": "2022-12-11T17:05:04.561Z"
   },
   {
    "duration": 95,
    "start_time": "2022-12-11T17:05:04.651Z"
   },
   {
    "duration": 62,
    "start_time": "2022-12-11T17:05:04.747Z"
   },
   {
    "duration": 6,
    "start_time": "2022-12-11T17:05:04.812Z"
   },
   {
    "duration": 10,
    "start_time": "2022-12-11T17:05:04.819Z"
   },
   {
    "duration": 22,
    "start_time": "2022-12-11T17:05:04.831Z"
   },
   {
    "duration": 32,
    "start_time": "2022-12-11T17:05:04.855Z"
   },
   {
    "duration": 31,
    "start_time": "2022-12-11T17:05:04.889Z"
   },
   {
    "duration": 308,
    "start_time": "2022-12-11T17:05:04.922Z"
   },
   {
    "duration": 0,
    "start_time": "2022-12-11T17:05:05.233Z"
   },
   {
    "duration": 0,
    "start_time": "2022-12-11T17:05:05.234Z"
   },
   {
    "duration": 0,
    "start_time": "2022-12-11T17:05:05.235Z"
   },
   {
    "duration": 0,
    "start_time": "2022-12-11T17:05:05.236Z"
   },
   {
    "duration": 0,
    "start_time": "2022-12-11T17:05:05.238Z"
   },
   {
    "duration": 0,
    "start_time": "2022-12-11T17:05:05.239Z"
   },
   {
    "duration": 0,
    "start_time": "2022-12-11T17:05:05.240Z"
   },
   {
    "duration": 0,
    "start_time": "2022-12-11T17:05:05.241Z"
   },
   {
    "duration": 0,
    "start_time": "2022-12-11T17:05:05.242Z"
   },
   {
    "duration": 0,
    "start_time": "2022-12-11T17:05:05.243Z"
   },
   {
    "duration": 0,
    "start_time": "2022-12-11T17:05:05.244Z"
   },
   {
    "duration": 0,
    "start_time": "2022-12-11T17:05:05.245Z"
   },
   {
    "duration": 0,
    "start_time": "2022-12-11T17:05:05.246Z"
   },
   {
    "duration": 0,
    "start_time": "2022-12-11T17:05:05.248Z"
   },
   {
    "duration": 0,
    "start_time": "2022-12-11T17:05:05.249Z"
   },
   {
    "duration": 0,
    "start_time": "2022-12-11T17:05:05.250Z"
   },
   {
    "duration": 0,
    "start_time": "2022-12-11T17:05:05.251Z"
   },
   {
    "duration": 0,
    "start_time": "2022-12-11T17:05:05.252Z"
   },
   {
    "duration": 0,
    "start_time": "2022-12-11T17:05:05.253Z"
   },
   {
    "duration": 0,
    "start_time": "2022-12-11T17:05:05.254Z"
   },
   {
    "duration": 0,
    "start_time": "2022-12-11T17:05:05.255Z"
   },
   {
    "duration": 0,
    "start_time": "2022-12-11T17:05:05.256Z"
   },
   {
    "duration": 0,
    "start_time": "2022-12-11T17:05:05.257Z"
   },
   {
    "duration": 0,
    "start_time": "2022-12-11T17:05:05.259Z"
   },
   {
    "duration": 0,
    "start_time": "2022-12-11T17:05:05.260Z"
   },
   {
    "duration": 0,
    "start_time": "2022-12-11T17:05:05.261Z"
   },
   {
    "duration": 0,
    "start_time": "2022-12-11T17:05:05.296Z"
   },
   {
    "duration": 0,
    "start_time": "2022-12-11T17:05:05.297Z"
   },
   {
    "duration": 5,
    "start_time": "2022-12-11T17:08:02.559Z"
   },
   {
    "duration": 83,
    "start_time": "2022-12-11T17:08:02.567Z"
   },
   {
    "duration": 107,
    "start_time": "2022-12-11T17:08:02.652Z"
   },
   {
    "duration": 69,
    "start_time": "2022-12-11T17:08:02.761Z"
   },
   {
    "duration": 5,
    "start_time": "2022-12-11T17:08:02.832Z"
   },
   {
    "duration": 7,
    "start_time": "2022-12-11T17:08:02.839Z"
   },
   {
    "duration": 14,
    "start_time": "2022-12-11T17:08:02.848Z"
   },
   {
    "duration": 49,
    "start_time": "2022-12-11T17:08:02.864Z"
   },
   {
    "duration": 6,
    "start_time": "2022-12-11T17:08:02.915Z"
   },
   {
    "duration": 341,
    "start_time": "2022-12-11T17:08:02.923Z"
   },
   {
    "duration": 0,
    "start_time": "2022-12-11T17:08:03.265Z"
   },
   {
    "duration": 0,
    "start_time": "2022-12-11T17:08:03.267Z"
   },
   {
    "duration": 0,
    "start_time": "2022-12-11T17:08:03.268Z"
   },
   {
    "duration": 0,
    "start_time": "2022-12-11T17:08:03.269Z"
   },
   {
    "duration": 0,
    "start_time": "2022-12-11T17:08:03.270Z"
   },
   {
    "duration": 0,
    "start_time": "2022-12-11T17:08:03.272Z"
   },
   {
    "duration": 0,
    "start_time": "2022-12-11T17:08:03.273Z"
   },
   {
    "duration": 82,
    "start_time": "2022-12-11T17:08:57.363Z"
   },
   {
    "duration": 6,
    "start_time": "2022-12-11T17:09:05.686Z"
   },
   {
    "duration": 281,
    "start_time": "2022-12-11T17:09:09.733Z"
   },
   {
    "duration": 240,
    "start_time": "2022-12-11T17:09:23.822Z"
   },
   {
    "duration": 59,
    "start_time": "2022-12-11T17:09:42.560Z"
   },
   {
    "duration": 85,
    "start_time": "2022-12-11T17:09:51.055Z"
   },
   {
    "duration": 41,
    "start_time": "2022-12-11T17:10:57.105Z"
   },
   {
    "duration": 183,
    "start_time": "2022-12-11T17:11:10.855Z"
   },
   {
    "duration": 219,
    "start_time": "2022-12-11T17:11:46.321Z"
   },
   {
    "duration": 5,
    "start_time": "2022-12-11T17:13:57.417Z"
   },
   {
    "duration": 5,
    "start_time": "2022-12-11T17:14:19.767Z"
   },
   {
    "duration": 69,
    "start_time": "2022-12-11T17:14:19.774Z"
   },
   {
    "duration": 70,
    "start_time": "2022-12-11T17:14:19.845Z"
   },
   {
    "duration": 56,
    "start_time": "2022-12-11T17:14:19.917Z"
   },
   {
    "duration": 5,
    "start_time": "2022-12-11T17:14:19.976Z"
   },
   {
    "duration": 4,
    "start_time": "2022-12-11T17:14:19.996Z"
   },
   {
    "duration": 6,
    "start_time": "2022-12-11T17:14:20.002Z"
   },
   {
    "duration": 8,
    "start_time": "2022-12-11T17:14:20.010Z"
   },
   {
    "duration": 17,
    "start_time": "2022-12-11T17:14:20.020Z"
   },
   {
    "duration": 38,
    "start_time": "2022-12-11T17:14:20.038Z"
   },
   {
    "duration": 0,
    "start_time": "2022-12-11T17:14:20.077Z"
   },
   {
    "duration": 11,
    "start_time": "2022-12-11T17:15:36.568Z"
   },
   {
    "duration": 5,
    "start_time": "2022-12-11T17:16:43.414Z"
   },
   {
    "duration": 5,
    "start_time": "2022-12-11T17:16:49.451Z"
   },
   {
    "duration": 69,
    "start_time": "2022-12-11T17:16:49.458Z"
   },
   {
    "duration": 70,
    "start_time": "2022-12-11T17:16:49.529Z"
   },
   {
    "duration": 41,
    "start_time": "2022-12-11T17:16:49.601Z"
   },
   {
    "duration": 5,
    "start_time": "2022-12-11T17:16:49.644Z"
   },
   {
    "duration": 5,
    "start_time": "2022-12-11T17:16:49.651Z"
   },
   {
    "duration": 5,
    "start_time": "2022-12-11T17:16:49.658Z"
   },
   {
    "duration": 31,
    "start_time": "2022-12-11T17:16:49.665Z"
   },
   {
    "duration": 16,
    "start_time": "2022-12-11T17:16:49.698Z"
   },
   {
    "duration": 12,
    "start_time": "2022-12-11T17:16:49.716Z"
   },
   {
    "duration": 0,
    "start_time": "2022-12-11T17:16:49.729Z"
   },
   {
    "duration": 0,
    "start_time": "2022-12-11T17:16:49.731Z"
   },
   {
    "duration": 20,
    "start_time": "2022-12-11T17:17:51.327Z"
   },
   {
    "duration": 17,
    "start_time": "2022-12-11T17:23:16.750Z"
   },
   {
    "duration": 6,
    "start_time": "2022-12-11T17:23:19.660Z"
   },
   {
    "duration": 95,
    "start_time": "2022-12-11T17:23:19.668Z"
   },
   {
    "duration": 60,
    "start_time": "2022-12-11T17:23:19.765Z"
   },
   {
    "duration": 50,
    "start_time": "2022-12-11T17:23:19.826Z"
   },
   {
    "duration": 5,
    "start_time": "2022-12-11T17:23:19.897Z"
   },
   {
    "duration": 10,
    "start_time": "2022-12-11T17:23:19.903Z"
   },
   {
    "duration": 8,
    "start_time": "2022-12-11T17:23:19.915Z"
   },
   {
    "duration": 7,
    "start_time": "2022-12-11T17:23:19.925Z"
   },
   {
    "duration": 23,
    "start_time": "2022-12-11T17:23:19.936Z"
   },
   {
    "duration": 18,
    "start_time": "2022-12-11T17:23:19.962Z"
   },
   {
    "duration": 0,
    "start_time": "2022-12-11T17:23:19.982Z"
   },
   {
    "duration": 0,
    "start_time": "2022-12-11T17:23:19.983Z"
   },
   {
    "duration": 0,
    "start_time": "2022-12-11T17:23:19.985Z"
   },
   {
    "duration": 14,
    "start_time": "2022-12-11T17:25:59.407Z"
   },
   {
    "duration": 6,
    "start_time": "2022-12-11T17:26:10.407Z"
   },
   {
    "duration": 82,
    "start_time": "2022-12-11T17:26:10.415Z"
   },
   {
    "duration": 59,
    "start_time": "2022-12-11T17:26:10.499Z"
   },
   {
    "duration": 44,
    "start_time": "2022-12-11T17:26:10.560Z"
   },
   {
    "duration": 4,
    "start_time": "2022-12-11T17:26:10.605Z"
   },
   {
    "duration": 5,
    "start_time": "2022-12-11T17:26:10.610Z"
   },
   {
    "duration": 6,
    "start_time": "2022-12-11T17:26:10.617Z"
   },
   {
    "duration": 4,
    "start_time": "2022-12-11T17:26:10.624Z"
   },
   {
    "duration": 16,
    "start_time": "2022-12-11T17:26:10.630Z"
   },
   {
    "duration": 60,
    "start_time": "2022-12-11T17:26:10.648Z"
   },
   {
    "duration": 0,
    "start_time": "2022-12-11T17:26:10.709Z"
   },
   {
    "duration": 18,
    "start_time": "2022-12-11T17:27:20.597Z"
   },
   {
    "duration": 9,
    "start_time": "2022-12-11T17:34:14.161Z"
   },
   {
    "duration": 5,
    "start_time": "2022-12-11T17:34:16.872Z"
   },
   {
    "duration": 69,
    "start_time": "2022-12-11T17:34:16.879Z"
   },
   {
    "duration": 56,
    "start_time": "2022-12-11T17:34:16.950Z"
   },
   {
    "duration": 42,
    "start_time": "2022-12-11T17:34:17.008Z"
   },
   {
    "duration": 4,
    "start_time": "2022-12-11T17:34:17.051Z"
   },
   {
    "duration": 12,
    "start_time": "2022-12-11T17:34:17.057Z"
   },
   {
    "duration": 5,
    "start_time": "2022-12-11T17:34:17.071Z"
   },
   {
    "duration": 6,
    "start_time": "2022-12-11T17:34:17.078Z"
   },
   {
    "duration": 6,
    "start_time": "2022-12-11T17:34:17.096Z"
   },
   {
    "duration": 12,
    "start_time": "2022-12-11T17:34:17.104Z"
   },
   {
    "duration": 17,
    "start_time": "2022-12-11T17:34:17.117Z"
   },
   {
    "duration": 7,
    "start_time": "2022-12-11T17:34:17.136Z"
   },
   {
    "duration": 58,
    "start_time": "2022-12-11T17:34:17.144Z"
   },
   {
    "duration": 12,
    "start_time": "2022-12-11T17:34:46.247Z"
   },
   {
    "duration": 63,
    "start_time": "2022-12-11T17:35:28.622Z"
   },
   {
    "duration": 7,
    "start_time": "2022-12-11T17:45:39.189Z"
   },
   {
    "duration": 41,
    "start_time": "2022-12-11T17:45:51.253Z"
   },
   {
    "duration": 18215,
    "start_time": "2022-12-11T17:46:05.763Z"
   },
   {
    "duration": 60,
    "start_time": "2022-12-11T17:46:56.013Z"
   },
   {
    "duration": 64,
    "start_time": "2022-12-11T17:47:27.947Z"
   },
   {
    "duration": 48,
    "start_time": "2022-12-11T17:47:57.564Z"
   },
   {
    "duration": 12,
    "start_time": "2022-12-11T17:48:08.363Z"
   },
   {
    "duration": 15,
    "start_time": "2022-12-11T17:51:38.704Z"
   },
   {
    "duration": 18,
    "start_time": "2022-12-11T17:51:45.855Z"
   },
   {
    "duration": 99,
    "start_time": "2022-12-11T17:54:32.694Z"
   },
   {
    "duration": 84,
    "start_time": "2022-12-11T17:54:37.246Z"
   },
   {
    "duration": 5,
    "start_time": "2022-12-11T17:54:52.541Z"
   },
   {
    "duration": 52,
    "start_time": "2022-12-11T18:06:37.307Z"
   },
   {
    "duration": 5,
    "start_time": "2022-12-11T18:07:29.106Z"
   },
   {
    "duration": 72,
    "start_time": "2022-12-11T18:07:29.114Z"
   },
   {
    "duration": 63,
    "start_time": "2022-12-11T18:07:29.189Z"
   },
   {
    "duration": 67,
    "start_time": "2022-12-11T18:07:29.254Z"
   },
   {
    "duration": 5,
    "start_time": "2022-12-11T18:07:29.324Z"
   },
   {
    "duration": 11,
    "start_time": "2022-12-11T18:07:29.330Z"
   },
   {
    "duration": 7,
    "start_time": "2022-12-11T18:07:29.343Z"
   },
   {
    "duration": 9,
    "start_time": "2022-12-11T18:07:29.351Z"
   },
   {
    "duration": 9,
    "start_time": "2022-12-11T18:07:29.361Z"
   },
   {
    "duration": 28,
    "start_time": "2022-12-11T18:07:29.371Z"
   },
   {
    "duration": 13,
    "start_time": "2022-12-11T18:07:29.401Z"
   },
   {
    "duration": 18521,
    "start_time": "2022-12-11T18:07:29.416Z"
   },
   {
    "duration": 63,
    "start_time": "2022-12-11T18:07:47.940Z"
   },
   {
    "duration": 11,
    "start_time": "2022-12-11T18:07:48.005Z"
   },
   {
    "duration": 70,
    "start_time": "2022-12-11T18:08:34.771Z"
   },
   {
    "duration": 12,
    "start_time": "2022-12-11T18:08:39.225Z"
   }
  ],
  "kernelspec": {
   "display_name": "Python 3 (ipykernel)",
   "language": "python",
   "name": "python3"
  },
  "language_info": {
   "codemirror_mode": {
    "name": "ipython",
    "version": 3
   },
   "file_extension": ".py",
   "mimetype": "text/x-python",
   "name": "python",
   "nbconvert_exporter": "python",
   "pygments_lexer": "ipython3",
   "version": "3.9.5"
  },
  "toc": {
   "base_numbering": 1,
   "nav_menu": {},
   "number_sections": true,
   "sideBar": true,
   "skip_h1_title": true,
   "title_cell": "Table of Contents",
   "title_sidebar": "Contents",
   "toc_cell": false,
   "toc_position": {
    "height": "calc(100% - 180px)",
    "left": "10px",
    "top": "150px",
    "width": "366.391px"
   },
   "toc_section_display": true,
   "toc_window_display": false
  }
 },
 "nbformat": 4,
 "nbformat_minor": 2
}
